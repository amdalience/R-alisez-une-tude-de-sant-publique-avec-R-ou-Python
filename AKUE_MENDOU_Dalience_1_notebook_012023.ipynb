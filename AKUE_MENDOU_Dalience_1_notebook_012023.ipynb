{
 "cells": [
  {
   "cell_type": "markdown",
   "id": "969371ed",
   "metadata": {},
   "source": [
    "# Projet 4 : Réalisez une étude de santé publique avec R ou Python\n",
    "\n",
    "### Mission: \n",
    "> Réaliser une étude de grande ampleur sur le thème de la sous-nutrition dans le monde, au sein de la  Food and Agriculture Organization of the United Nations (FAO).\n",
    "\n",
    "## Sommaire :\n",
    "\n",
    "\n",
    "### Partie 1: Importation et nettoyage des données\n",
    "\n",
    "#### [1) Importation des données](#A1)\n",
    "#### [2) Nettoyage et Préparation des données](#A2)\n",
    "\n",
    " - [1.Table de Disponibilité alimentaire](#A2.1)\n",
    " - [2.Table de Sous-nutrition](#A2.2)\n",
    " - [3.Table de Population](#A2.3)\n",
    " - [4.Table d'Aide alimentaire](#A2.4)\n",
    " \n",
    "### Partie 2: Analyses des données\n",
    "\n",
    "#### [1) Recherches pour Marc](#B1)\n",
    "\n",
    "- [1.1. Proportion de personnes en état de sous-nutrition pour l'année 2017](#B1.1)\n",
    "- [1.2. Nombre théorique de personnes qui pourraient être nourries en 2017](#B1.2)\n",
    "- [1.3. Nombre théorique de personnes qui pourraient être nourries par les produits végétaux](#B1.3)\n",
    "- [1.4. Utilisation de la disponibilité intérieure, en particulier la part qui est attribuée à l’alimentation animale, celle qui est perdue et celle qui est concrètement utilisée pour l'alimentation humaine](#B1.4)\n",
    "\n",
    "#### [2) Recherches pour Julien](#B2)\n",
    "\n",
    "- [2.1. Proportion des céréales pour l'alimentation humaine](#B2.1)\n",
    "- [2.2. Proportion des céréales pour l'alimentation animale](#B2.2)\n",
    "- [2.3. Proportion de personnes en sous-nutrition en Thaïlande](#B2.3)\n",
    "- [2.4. Proportion d'exportation du manioc par rapport à la production en Thaïlande](#B2.4)\n",
    "\n",
    "#### [3) Recherches pour Mélanie](#B3)\n",
    "\n",
    "- [3.1. Liste des pays pour lesquels la proportion de personnes sous-alimentées est la plus forte en 2017](#B3.1)\n",
    "- [3.2. Liste des Pays qui ont le plus bénéficié d'aide alimentaire depuis 2013](#B3.2)\n",
    "- [3.3. Liste des Pays ayant le plus de disponibilité par habitant](#B3.3)\n",
    "- [3.4. Liste des Pays ayant le moins de disponibilité par habitant](#B3.4)\n"
   ]
  },
  {
   "cell_type": "markdown",
   "id": "972fa12c",
   "metadata": {},
   "source": [
    "# Partie 1: Importation et nettoyage des données\n",
    "\n",
    "## <a id=\"A1\">1) Importation des données</a>\n"
   ]
  },
  {
   "cell_type": "code",
   "execution_count": 1,
   "id": "efd306b2",
   "metadata": {},
   "outputs": [],
   "source": [
    "# import des librairies dont nous aurons besoin\n",
    "import pandas as pd\n",
    "import numpy as np\n",
    "\n",
    "# chargement des données des fichiers csv\n",
    "dispo     = pd.read_csv('dispo_alimentaire.csv')\n",
    "sous_nut  = pd.read_csv('sous_nutrition.csv')\n",
    "pop       = pd.read_csv('population.csv')\n",
    "aide_alim = pd.read_csv('aide_alimentaire.csv')"
   ]
  },
  {
   "cell_type": "code",
   "execution_count": 2,
   "id": "89a5b9b0",
   "metadata": {},
   "outputs": [],
   "source": [
    "# Mise en forme du notebook pour une bonne lecture :\n",
    "\n",
    "# 1. formatage des résultats avec des séparateurs de milliers\n",
    "\n",
    "# 2. création d'une classe nommée 'color' pour mettre en forme nos résultats.\n",
    "class color:\n",
    "   BLUE = '\\033[94m'\n",
    "   RED = '\\033[91m'\n",
    "   BOLD = '\\033[1m'\n",
    "   UNDERLINE = '\\033[4m'\n",
    "   END = '\\033[0m'"
   ]
  },
  {
   "cell_type": "markdown",
   "id": "64441f01",
   "metadata": {},
   "source": [
    "## <a id=\"A2\">2) Nettoyage et Préparation des données</a>\n",
    "\n",
    "### <a id=\"A2.1\">1.Table de Disponibilité alimentaire</a>"
   ]
  },
  {
   "cell_type": "code",
   "execution_count": 3,
   "id": "8ffc99f5",
   "metadata": {},
   "outputs": [
    {
     "data": {
      "text/html": [
       "<div>\n",
       "<style scoped>\n",
       "    .dataframe tbody tr th:only-of-type {\n",
       "        vertical-align: middle;\n",
       "    }\n",
       "\n",
       "    .dataframe tbody tr th {\n",
       "        vertical-align: top;\n",
       "    }\n",
       "\n",
       "    .dataframe thead th {\n",
       "        text-align: right;\n",
       "    }\n",
       "</style>\n",
       "<table border=\"1\" class=\"dataframe\">\n",
       "  <thead>\n",
       "    <tr style=\"text-align: right;\">\n",
       "      <th></th>\n",
       "      <th>Zone</th>\n",
       "      <th>Produit</th>\n",
       "      <th>Origine</th>\n",
       "      <th>Aliments pour animaux</th>\n",
       "      <th>Autres Utilisations</th>\n",
       "      <th>Disponibilité alimentaire (Kcal/personne/jour)</th>\n",
       "      <th>Disponibilité alimentaire en quantité (kg/personne/an)</th>\n",
       "      <th>Disponibilité de matière grasse en quantité (g/personne/jour)</th>\n",
       "      <th>Disponibilité de protéines en quantité (g/personne/jour)</th>\n",
       "      <th>Disponibilité intérieure</th>\n",
       "      <th>Exportations - Quantité</th>\n",
       "      <th>Importations - Quantité</th>\n",
       "      <th>Nourriture</th>\n",
       "      <th>Pertes</th>\n",
       "      <th>Production</th>\n",
       "      <th>Semences</th>\n",
       "      <th>Traitement</th>\n",
       "      <th>Variation de stock</th>\n",
       "    </tr>\n",
       "  </thead>\n",
       "  <tbody>\n",
       "    <tr>\n",
       "      <th>0</th>\n",
       "      <td>Afghanistan</td>\n",
       "      <td>Abats Comestible</td>\n",
       "      <td>animale</td>\n",
       "      <td>NaN</td>\n",
       "      <td>NaN</td>\n",
       "      <td>5.0</td>\n",
       "      <td>1.72</td>\n",
       "      <td>0.20</td>\n",
       "      <td>0.77</td>\n",
       "      <td>53.0</td>\n",
       "      <td>NaN</td>\n",
       "      <td>NaN</td>\n",
       "      <td>53.0</td>\n",
       "      <td>NaN</td>\n",
       "      <td>53.0</td>\n",
       "      <td>NaN</td>\n",
       "      <td>NaN</td>\n",
       "      <td>NaN</td>\n",
       "    </tr>\n",
       "    <tr>\n",
       "      <th>1</th>\n",
       "      <td>Afghanistan</td>\n",
       "      <td>Agrumes, Autres</td>\n",
       "      <td>vegetale</td>\n",
       "      <td>NaN</td>\n",
       "      <td>NaN</td>\n",
       "      <td>1.0</td>\n",
       "      <td>1.29</td>\n",
       "      <td>0.01</td>\n",
       "      <td>0.02</td>\n",
       "      <td>41.0</td>\n",
       "      <td>2.0</td>\n",
       "      <td>40.0</td>\n",
       "      <td>39.0</td>\n",
       "      <td>2.0</td>\n",
       "      <td>3.0</td>\n",
       "      <td>NaN</td>\n",
       "      <td>NaN</td>\n",
       "      <td>NaN</td>\n",
       "    </tr>\n",
       "    <tr>\n",
       "      <th>2</th>\n",
       "      <td>Afghanistan</td>\n",
       "      <td>Aliments pour enfants</td>\n",
       "      <td>vegetale</td>\n",
       "      <td>NaN</td>\n",
       "      <td>NaN</td>\n",
       "      <td>1.0</td>\n",
       "      <td>0.06</td>\n",
       "      <td>0.01</td>\n",
       "      <td>0.03</td>\n",
       "      <td>2.0</td>\n",
       "      <td>NaN</td>\n",
       "      <td>2.0</td>\n",
       "      <td>2.0</td>\n",
       "      <td>NaN</td>\n",
       "      <td>NaN</td>\n",
       "      <td>NaN</td>\n",
       "      <td>NaN</td>\n",
       "      <td>NaN</td>\n",
       "    </tr>\n",
       "    <tr>\n",
       "      <th>3</th>\n",
       "      <td>Afghanistan</td>\n",
       "      <td>Ananas</td>\n",
       "      <td>vegetale</td>\n",
       "      <td>NaN</td>\n",
       "      <td>NaN</td>\n",
       "      <td>0.0</td>\n",
       "      <td>0.00</td>\n",
       "      <td>NaN</td>\n",
       "      <td>NaN</td>\n",
       "      <td>0.0</td>\n",
       "      <td>NaN</td>\n",
       "      <td>0.0</td>\n",
       "      <td>0.0</td>\n",
       "      <td>NaN</td>\n",
       "      <td>NaN</td>\n",
       "      <td>NaN</td>\n",
       "      <td>NaN</td>\n",
       "      <td>NaN</td>\n",
       "    </tr>\n",
       "    <tr>\n",
       "      <th>4</th>\n",
       "      <td>Afghanistan</td>\n",
       "      <td>Bananes</td>\n",
       "      <td>vegetale</td>\n",
       "      <td>NaN</td>\n",
       "      <td>NaN</td>\n",
       "      <td>4.0</td>\n",
       "      <td>2.70</td>\n",
       "      <td>0.02</td>\n",
       "      <td>0.05</td>\n",
       "      <td>82.0</td>\n",
       "      <td>NaN</td>\n",
       "      <td>82.0</td>\n",
       "      <td>82.0</td>\n",
       "      <td>NaN</td>\n",
       "      <td>NaN</td>\n",
       "      <td>NaN</td>\n",
       "      <td>NaN</td>\n",
       "      <td>NaN</td>\n",
       "    </tr>\n",
       "  </tbody>\n",
       "</table>\n",
       "</div>"
      ],
      "text/plain": [
       "          Zone                Produit   Origine  Aliments pour animaux  \\\n",
       "0  Afghanistan       Abats Comestible   animale                    NaN   \n",
       "1  Afghanistan        Agrumes, Autres  vegetale                    NaN   \n",
       "2  Afghanistan  Aliments pour enfants  vegetale                    NaN   \n",
       "3  Afghanistan                 Ananas  vegetale                    NaN   \n",
       "4  Afghanistan                Bananes  vegetale                    NaN   \n",
       "\n",
       "   Autres Utilisations  Disponibilité alimentaire (Kcal/personne/jour)  \\\n",
       "0                  NaN                                             5.0   \n",
       "1                  NaN                                             1.0   \n",
       "2                  NaN                                             1.0   \n",
       "3                  NaN                                             0.0   \n",
       "4                  NaN                                             4.0   \n",
       "\n",
       "   Disponibilité alimentaire en quantité (kg/personne/an)  \\\n",
       "0                                               1.72        \n",
       "1                                               1.29        \n",
       "2                                               0.06        \n",
       "3                                               0.00        \n",
       "4                                               2.70        \n",
       "\n",
       "   Disponibilité de matière grasse en quantité (g/personne/jour)  \\\n",
       "0                                               0.20               \n",
       "1                                               0.01               \n",
       "2                                               0.01               \n",
       "3                                                NaN               \n",
       "4                                               0.02               \n",
       "\n",
       "   Disponibilité de protéines en quantité (g/personne/jour)  \\\n",
       "0                                               0.77          \n",
       "1                                               0.02          \n",
       "2                                               0.03          \n",
       "3                                                NaN          \n",
       "4                                               0.05          \n",
       "\n",
       "   Disponibilité intérieure  Exportations - Quantité  Importations - Quantité  \\\n",
       "0                      53.0                      NaN                      NaN   \n",
       "1                      41.0                      2.0                     40.0   \n",
       "2                       2.0                      NaN                      2.0   \n",
       "3                       0.0                      NaN                      0.0   \n",
       "4                      82.0                      NaN                     82.0   \n",
       "\n",
       "   Nourriture  Pertes  Production  Semences  Traitement  Variation de stock  \n",
       "0        53.0     NaN        53.0       NaN         NaN                 NaN  \n",
       "1        39.0     2.0         3.0       NaN         NaN                 NaN  \n",
       "2         2.0     NaN         NaN       NaN         NaN                 NaN  \n",
       "3         0.0     NaN         NaN       NaN         NaN                 NaN  \n",
       "4        82.0     NaN         NaN       NaN         NaN                 NaN  "
      ]
     },
     "execution_count": 3,
     "metadata": {},
     "output_type": "execute_result"
    }
   ],
   "source": [
    "# Affichage de la table de disponibilité alimentaire\n",
    "\n",
    "dispo = pd.read_csv('dispo_alimentaire.csv')\n",
    "dispo.head()"
   ]
  },
  {
   "cell_type": "code",
   "execution_count": 4,
   "id": "74a2f1f0",
   "metadata": {},
   "outputs": [
    {
     "data": {
      "text/plain": [
       "(15605, 18)"
      ]
     },
     "execution_count": 4,
     "metadata": {},
     "output_type": "execute_result"
    }
   ],
   "source": [
    "# Vérification des dimension du dataframe\n",
    "\n",
    "dispo.shape"
   ]
  },
  {
   "cell_type": "code",
   "execution_count": 5,
   "id": "5c9c524f",
   "metadata": {},
   "outputs": [
    {
     "data": {
      "text/html": [
       "<div>\n",
       "<style scoped>\n",
       "    .dataframe tbody tr th:only-of-type {\n",
       "        vertical-align: middle;\n",
       "    }\n",
       "\n",
       "    .dataframe tbody tr th {\n",
       "        vertical-align: top;\n",
       "    }\n",
       "\n",
       "    .dataframe thead th {\n",
       "        text-align: right;\n",
       "    }\n",
       "</style>\n",
       "<table border=\"1\" class=\"dataframe\">\n",
       "  <thead>\n",
       "    <tr style=\"text-align: right;\">\n",
       "      <th></th>\n",
       "      <th>pays</th>\n",
       "      <th>produit</th>\n",
       "      <th>origine</th>\n",
       "      <th>dispo_alim_kcal/pers/j</th>\n",
       "      <th>dispo_alim_kg/pers/an</th>\n",
       "      <th>dispo_matiere_grasse_g/pers/j</th>\n",
       "      <th>dispo_proteine_g/pers/j</th>\n",
       "      <th>aliments_animaux</th>\n",
       "      <th>autres_utilisations</th>\n",
       "      <th>dispo_interieure</th>\n",
       "      <th>qte_exportation</th>\n",
       "      <th>qte_importation</th>\n",
       "      <th>nourriture</th>\n",
       "      <th>pertes</th>\n",
       "      <th>production</th>\n",
       "      <th>semences</th>\n",
       "      <th>traitement</th>\n",
       "      <th>variation_stock</th>\n",
       "    </tr>\n",
       "  </thead>\n",
       "  <tbody>\n",
       "    <tr>\n",
       "      <th>0</th>\n",
       "      <td>Afghanistan</td>\n",
       "      <td>Abats Comestible</td>\n",
       "      <td>animale</td>\n",
       "      <td>5.0</td>\n",
       "      <td>1.72</td>\n",
       "      <td>0.20</td>\n",
       "      <td>0.77</td>\n",
       "      <td>NaN</td>\n",
       "      <td>NaN</td>\n",
       "      <td>53.0</td>\n",
       "      <td>NaN</td>\n",
       "      <td>NaN</td>\n",
       "      <td>53.0</td>\n",
       "      <td>NaN</td>\n",
       "      <td>53.0</td>\n",
       "      <td>NaN</td>\n",
       "      <td>NaN</td>\n",
       "      <td>NaN</td>\n",
       "    </tr>\n",
       "    <tr>\n",
       "      <th>1</th>\n",
       "      <td>Afghanistan</td>\n",
       "      <td>Agrumes, Autres</td>\n",
       "      <td>vegetale</td>\n",
       "      <td>1.0</td>\n",
       "      <td>1.29</td>\n",
       "      <td>0.01</td>\n",
       "      <td>0.02</td>\n",
       "      <td>NaN</td>\n",
       "      <td>NaN</td>\n",
       "      <td>41.0</td>\n",
       "      <td>2.0</td>\n",
       "      <td>40.0</td>\n",
       "      <td>39.0</td>\n",
       "      <td>2.0</td>\n",
       "      <td>3.0</td>\n",
       "      <td>NaN</td>\n",
       "      <td>NaN</td>\n",
       "      <td>NaN</td>\n",
       "    </tr>\n",
       "    <tr>\n",
       "      <th>2</th>\n",
       "      <td>Afghanistan</td>\n",
       "      <td>Aliments pour enfants</td>\n",
       "      <td>vegetale</td>\n",
       "      <td>1.0</td>\n",
       "      <td>0.06</td>\n",
       "      <td>0.01</td>\n",
       "      <td>0.03</td>\n",
       "      <td>NaN</td>\n",
       "      <td>NaN</td>\n",
       "      <td>2.0</td>\n",
       "      <td>NaN</td>\n",
       "      <td>2.0</td>\n",
       "      <td>2.0</td>\n",
       "      <td>NaN</td>\n",
       "      <td>NaN</td>\n",
       "      <td>NaN</td>\n",
       "      <td>NaN</td>\n",
       "      <td>NaN</td>\n",
       "    </tr>\n",
       "    <tr>\n",
       "      <th>3</th>\n",
       "      <td>Afghanistan</td>\n",
       "      <td>Ananas</td>\n",
       "      <td>vegetale</td>\n",
       "      <td>0.0</td>\n",
       "      <td>0.00</td>\n",
       "      <td>NaN</td>\n",
       "      <td>NaN</td>\n",
       "      <td>NaN</td>\n",
       "      <td>NaN</td>\n",
       "      <td>0.0</td>\n",
       "      <td>NaN</td>\n",
       "      <td>0.0</td>\n",
       "      <td>0.0</td>\n",
       "      <td>NaN</td>\n",
       "      <td>NaN</td>\n",
       "      <td>NaN</td>\n",
       "      <td>NaN</td>\n",
       "      <td>NaN</td>\n",
       "    </tr>\n",
       "    <tr>\n",
       "      <th>4</th>\n",
       "      <td>Afghanistan</td>\n",
       "      <td>Bananes</td>\n",
       "      <td>vegetale</td>\n",
       "      <td>4.0</td>\n",
       "      <td>2.70</td>\n",
       "      <td>0.02</td>\n",
       "      <td>0.05</td>\n",
       "      <td>NaN</td>\n",
       "      <td>NaN</td>\n",
       "      <td>82.0</td>\n",
       "      <td>NaN</td>\n",
       "      <td>82.0</td>\n",
       "      <td>82.0</td>\n",
       "      <td>NaN</td>\n",
       "      <td>NaN</td>\n",
       "      <td>NaN</td>\n",
       "      <td>NaN</td>\n",
       "      <td>NaN</td>\n",
       "    </tr>\n",
       "  </tbody>\n",
       "</table>\n",
       "</div>"
      ],
      "text/plain": [
       "          pays                produit   origine  dispo_alim_kcal/pers/j  \\\n",
       "0  Afghanistan       Abats Comestible   animale                     5.0   \n",
       "1  Afghanistan        Agrumes, Autres  vegetale                     1.0   \n",
       "2  Afghanistan  Aliments pour enfants  vegetale                     1.0   \n",
       "3  Afghanistan                 Ananas  vegetale                     0.0   \n",
       "4  Afghanistan                Bananes  vegetale                     4.0   \n",
       "\n",
       "   dispo_alim_kg/pers/an  dispo_matiere_grasse_g/pers/j  \\\n",
       "0                   1.72                           0.20   \n",
       "1                   1.29                           0.01   \n",
       "2                   0.06                           0.01   \n",
       "3                   0.00                            NaN   \n",
       "4                   2.70                           0.02   \n",
       "\n",
       "   dispo_proteine_g/pers/j  aliments_animaux  autres_utilisations  \\\n",
       "0                     0.77               NaN                  NaN   \n",
       "1                     0.02               NaN                  NaN   \n",
       "2                     0.03               NaN                  NaN   \n",
       "3                      NaN               NaN                  NaN   \n",
       "4                     0.05               NaN                  NaN   \n",
       "\n",
       "   dispo_interieure  qte_exportation  qte_importation  nourriture  pertes  \\\n",
       "0              53.0              NaN              NaN        53.0     NaN   \n",
       "1              41.0              2.0             40.0        39.0     2.0   \n",
       "2               2.0              NaN              2.0         2.0     NaN   \n",
       "3               0.0              NaN              0.0         0.0     NaN   \n",
       "4              82.0              NaN             82.0        82.0     NaN   \n",
       "\n",
       "   production  semences  traitement  variation_stock  \n",
       "0        53.0       NaN         NaN              NaN  \n",
       "1         3.0       NaN         NaN              NaN  \n",
       "2         NaN       NaN         NaN              NaN  \n",
       "3         NaN       NaN         NaN              NaN  \n",
       "4         NaN       NaN         NaN              NaN  "
      ]
     },
     "execution_count": 5,
     "metadata": {},
     "output_type": "execute_result"
    }
   ],
   "source": [
    "# Renommage et réorganisation des variables\n",
    "dispo.rename(columns = {'Zone': 'pays','Produit': 'produit', 'Origine':'origine',\n",
    "                      'Aliments pour animaux': 'aliments_animaux', 'Autres Utilisations': 'autres_utilisations',\n",
    "                      'Disponibilité alimentaire (Kcal/personne/jour)': 'dispo_alim_kcal/pers/j',\n",
    "                      'Disponibilité alimentaire en quantité (kg/personne/an)': 'dispo_alim_kg/pers/an',\n",
    "                      'Disponibilité de matière grasse en quantité (g/personne/jour)': 'dispo_matiere_grasse_g/pers/j', \n",
    "                      'Disponibilité de protéines en quantité (g/personne/jour)': 'dispo_proteine_g/pers/j', \n",
    "                      'Disponibilité intérieure': 'dispo_interieure', 'Exportations - Quantité': 'qte_exportation', \n",
    "                      'Importations - Quantité': 'qte_importation', 'Nourriture':'nourriture', 'Pertes':'pertes', \n",
    "                      'Production':'production', 'Semences': 'semences', 'Traitement': 'traitement', \n",
    "                      'Variation de stock': 'variation_stock'}, inplace=True)\n",
    "\n",
    "dispo=dispo.reindex(columns = ['pays', 'produit', 'origine','dispo_alim_kcal/pers/j', 'dispo_alim_kg/pers/an', \n",
    "                               'dispo_matiere_grasse_g/pers/j', 'dispo_proteine_g/pers/j', 'aliments_animaux', 'autres_utilisations',\n",
    "                               'dispo_interieure', 'qte_exportation', 'qte_importation', 'nourriture', 'pertes', \n",
    "                               'production', 'semences', 'traitement', 'variation_stock'])\n",
    "dispo.head()"
   ]
  },
  {
   "cell_type": "code",
   "execution_count": 6,
   "id": "2bb5528f",
   "metadata": {},
   "outputs": [
    {
     "data": {
      "text/plain": [
       "pays                              object\n",
       "produit                           object\n",
       "origine                           object\n",
       "dispo_alim_kcal/pers/j           float64\n",
       "dispo_alim_kg/pers/an            float64\n",
       "dispo_matiere_grasse_g/pers/j    float64\n",
       "dispo_proteine_g/pers/j          float64\n",
       "aliments_animaux                 float64\n",
       "autres_utilisations              float64\n",
       "dispo_interieure                 float64\n",
       "qte_exportation                  float64\n",
       "qte_importation                  float64\n",
       "nourriture                       float64\n",
       "pertes                           float64\n",
       "production                       float64\n",
       "semences                         float64\n",
       "traitement                       float64\n",
       "variation_stock                  float64\n",
       "dtype: object"
      ]
     },
     "execution_count": 6,
     "metadata": {},
     "output_type": "execute_result"
    }
   ],
   "source": [
    "# Vérification des erreurs de type\n",
    "\n",
    "dispo.dtypes"
   ]
  },
  {
   "cell_type": "code",
   "execution_count": 7,
   "id": "a073bc37",
   "metadata": {},
   "outputs": [
    {
     "data": {
      "text/plain": [
       "pays                                 0\n",
       "produit                              0\n",
       "origine                              0\n",
       "dispo_alim_kcal/pers/j            1364\n",
       "dispo_alim_kg/pers/an             1590\n",
       "dispo_matiere_grasse_g/pers/j     3811\n",
       "dispo_proteine_g/pers/j           4044\n",
       "aliments_animaux                 12885\n",
       "autres_utilisations              10109\n",
       "dispo_interieure                   223\n",
       "qte_exportation                   3379\n",
       "qte_importation                    753\n",
       "nourriture                        1590\n",
       "pertes                           11327\n",
       "production                        6425\n",
       "semences                         13514\n",
       "traitement                       13313\n",
       "variation_stock                   8829\n",
       "dtype: int64"
      ]
     },
     "execution_count": 7,
     "metadata": {},
     "output_type": "execute_result"
    }
   ],
   "source": [
    "# Vérificaton des valeurs manquantes\n",
    "\n",
    "dispo.isnull().sum()"
   ]
  },
  {
   "cell_type": "code",
   "execution_count": 8,
   "id": "7adf3414",
   "metadata": {},
   "outputs": [
    {
     "data": {
      "text/html": [
       "<div>\n",
       "<style scoped>\n",
       "    .dataframe tbody tr th:only-of-type {\n",
       "        vertical-align: middle;\n",
       "    }\n",
       "\n",
       "    .dataframe tbody tr th {\n",
       "        vertical-align: top;\n",
       "    }\n",
       "\n",
       "    .dataframe thead th {\n",
       "        text-align: right;\n",
       "    }\n",
       "</style>\n",
       "<table border=\"1\" class=\"dataframe\">\n",
       "  <thead>\n",
       "    <tr style=\"text-align: right;\">\n",
       "      <th></th>\n",
       "      <th>pays</th>\n",
       "      <th>produit</th>\n",
       "      <th>origine</th>\n",
       "      <th>dispo_alim_kcal/pers/j</th>\n",
       "      <th>dispo_alim_kg/pers/an</th>\n",
       "      <th>dispo_matiere_grasse_g/pers/j</th>\n",
       "      <th>dispo_proteine_g/pers/j</th>\n",
       "      <th>aliments_animaux</th>\n",
       "      <th>autres_utilisations</th>\n",
       "      <th>dispo_interieure</th>\n",
       "      <th>qte_exportation</th>\n",
       "      <th>qte_importation</th>\n",
       "      <th>nourriture</th>\n",
       "      <th>pertes</th>\n",
       "      <th>production</th>\n",
       "      <th>semences</th>\n",
       "      <th>traitement</th>\n",
       "      <th>variation_stock</th>\n",
       "    </tr>\n",
       "  </thead>\n",
       "  <tbody>\n",
       "    <tr>\n",
       "      <th>0</th>\n",
       "      <td>Afghanistan</td>\n",
       "      <td>Abats Comestible</td>\n",
       "      <td>animale</td>\n",
       "      <td>5.0</td>\n",
       "      <td>1.72</td>\n",
       "      <td>0.20</td>\n",
       "      <td>0.77</td>\n",
       "      <td>0.0</td>\n",
       "      <td>0.0</td>\n",
       "      <td>53.0</td>\n",
       "      <td>0.0</td>\n",
       "      <td>0.0</td>\n",
       "      <td>53.0</td>\n",
       "      <td>0.0</td>\n",
       "      <td>53.0</td>\n",
       "      <td>0.0</td>\n",
       "      <td>0.0</td>\n",
       "      <td>0.0</td>\n",
       "    </tr>\n",
       "    <tr>\n",
       "      <th>1</th>\n",
       "      <td>Afghanistan</td>\n",
       "      <td>Agrumes, Autres</td>\n",
       "      <td>vegetale</td>\n",
       "      <td>1.0</td>\n",
       "      <td>1.29</td>\n",
       "      <td>0.01</td>\n",
       "      <td>0.02</td>\n",
       "      <td>0.0</td>\n",
       "      <td>0.0</td>\n",
       "      <td>41.0</td>\n",
       "      <td>2.0</td>\n",
       "      <td>40.0</td>\n",
       "      <td>39.0</td>\n",
       "      <td>2.0</td>\n",
       "      <td>3.0</td>\n",
       "      <td>0.0</td>\n",
       "      <td>0.0</td>\n",
       "      <td>0.0</td>\n",
       "    </tr>\n",
       "    <tr>\n",
       "      <th>2</th>\n",
       "      <td>Afghanistan</td>\n",
       "      <td>Aliments pour enfants</td>\n",
       "      <td>vegetale</td>\n",
       "      <td>1.0</td>\n",
       "      <td>0.06</td>\n",
       "      <td>0.01</td>\n",
       "      <td>0.03</td>\n",
       "      <td>0.0</td>\n",
       "      <td>0.0</td>\n",
       "      <td>2.0</td>\n",
       "      <td>0.0</td>\n",
       "      <td>2.0</td>\n",
       "      <td>2.0</td>\n",
       "      <td>0.0</td>\n",
       "      <td>0.0</td>\n",
       "      <td>0.0</td>\n",
       "      <td>0.0</td>\n",
       "      <td>0.0</td>\n",
       "    </tr>\n",
       "    <tr>\n",
       "      <th>3</th>\n",
       "      <td>Afghanistan</td>\n",
       "      <td>Ananas</td>\n",
       "      <td>vegetale</td>\n",
       "      <td>0.0</td>\n",
       "      <td>0.00</td>\n",
       "      <td>0.00</td>\n",
       "      <td>0.00</td>\n",
       "      <td>0.0</td>\n",
       "      <td>0.0</td>\n",
       "      <td>0.0</td>\n",
       "      <td>0.0</td>\n",
       "      <td>0.0</td>\n",
       "      <td>0.0</td>\n",
       "      <td>0.0</td>\n",
       "      <td>0.0</td>\n",
       "      <td>0.0</td>\n",
       "      <td>0.0</td>\n",
       "      <td>0.0</td>\n",
       "    </tr>\n",
       "    <tr>\n",
       "      <th>4</th>\n",
       "      <td>Afghanistan</td>\n",
       "      <td>Bananes</td>\n",
       "      <td>vegetale</td>\n",
       "      <td>4.0</td>\n",
       "      <td>2.70</td>\n",
       "      <td>0.02</td>\n",
       "      <td>0.05</td>\n",
       "      <td>0.0</td>\n",
       "      <td>0.0</td>\n",
       "      <td>82.0</td>\n",
       "      <td>0.0</td>\n",
       "      <td>82.0</td>\n",
       "      <td>82.0</td>\n",
       "      <td>0.0</td>\n",
       "      <td>0.0</td>\n",
       "      <td>0.0</td>\n",
       "      <td>0.0</td>\n",
       "      <td>0.0</td>\n",
       "    </tr>\n",
       "  </tbody>\n",
       "</table>\n",
       "</div>"
      ],
      "text/plain": [
       "          pays                produit   origine  dispo_alim_kcal/pers/j  \\\n",
       "0  Afghanistan       Abats Comestible   animale                     5.0   \n",
       "1  Afghanistan        Agrumes, Autres  vegetale                     1.0   \n",
       "2  Afghanistan  Aliments pour enfants  vegetale                     1.0   \n",
       "3  Afghanistan                 Ananas  vegetale                     0.0   \n",
       "4  Afghanistan                Bananes  vegetale                     4.0   \n",
       "\n",
       "   dispo_alim_kg/pers/an  dispo_matiere_grasse_g/pers/j  \\\n",
       "0                   1.72                           0.20   \n",
       "1                   1.29                           0.01   \n",
       "2                   0.06                           0.01   \n",
       "3                   0.00                           0.00   \n",
       "4                   2.70                           0.02   \n",
       "\n",
       "   dispo_proteine_g/pers/j  aliments_animaux  autres_utilisations  \\\n",
       "0                     0.77               0.0                  0.0   \n",
       "1                     0.02               0.0                  0.0   \n",
       "2                     0.03               0.0                  0.0   \n",
       "3                     0.00               0.0                  0.0   \n",
       "4                     0.05               0.0                  0.0   \n",
       "\n",
       "   dispo_interieure  qte_exportation  qte_importation  nourriture  pertes  \\\n",
       "0              53.0              0.0              0.0        53.0     0.0   \n",
       "1              41.0              2.0             40.0        39.0     2.0   \n",
       "2               2.0              0.0              2.0         2.0     0.0   \n",
       "3               0.0              0.0              0.0         0.0     0.0   \n",
       "4              82.0              0.0             82.0        82.0     0.0   \n",
       "\n",
       "   production  semences  traitement  variation_stock  \n",
       "0        53.0       0.0         0.0              0.0  \n",
       "1         3.0       0.0         0.0              0.0  \n",
       "2         0.0       0.0         0.0              0.0  \n",
       "3         0.0       0.0         0.0              0.0  \n",
       "4         0.0       0.0         0.0              0.0  "
      ]
     },
     "execution_count": 8,
     "metadata": {},
     "output_type": "execute_result"
    }
   ],
   "source": [
    "# Remplacement des Valeurs manquantes par des '0'\n",
    "\n",
    "dispo = dispo.fillna(0)\n",
    "dispo.head()"
   ]
  },
  {
   "cell_type": "code",
   "execution_count": 9,
   "id": "e544d64d",
   "metadata": {},
   "outputs": [
    {
     "data": {
      "text/html": [
       "<div>\n",
       "<style scoped>\n",
       "    .dataframe tbody tr th:only-of-type {\n",
       "        vertical-align: middle;\n",
       "    }\n",
       "\n",
       "    .dataframe tbody tr th {\n",
       "        vertical-align: top;\n",
       "    }\n",
       "\n",
       "    .dataframe thead th {\n",
       "        text-align: right;\n",
       "    }\n",
       "</style>\n",
       "<table border=\"1\" class=\"dataframe\">\n",
       "  <thead>\n",
       "    <tr style=\"text-align: right;\">\n",
       "      <th></th>\n",
       "      <th>dispo_alim_kcal/pers/an</th>\n",
       "      <th>dispo_alim_kg/pers/an</th>\n",
       "      <th>dispo_matiere_grasse_kg/pers/an</th>\n",
       "      <th>dispo_proteine_kg/pers/an</th>\n",
       "    </tr>\n",
       "  </thead>\n",
       "  <tbody>\n",
       "    <tr>\n",
       "      <th>0</th>\n",
       "      <td>1825.0</td>\n",
       "      <td>1.72</td>\n",
       "      <td>0.07300</td>\n",
       "      <td>0.28105</td>\n",
       "    </tr>\n",
       "    <tr>\n",
       "      <th>1</th>\n",
       "      <td>365.0</td>\n",
       "      <td>1.29</td>\n",
       "      <td>0.00365</td>\n",
       "      <td>0.00730</td>\n",
       "    </tr>\n",
       "    <tr>\n",
       "      <th>2</th>\n",
       "      <td>365.0</td>\n",
       "      <td>0.06</td>\n",
       "      <td>0.00365</td>\n",
       "      <td>0.01095</td>\n",
       "    </tr>\n",
       "    <tr>\n",
       "      <th>3</th>\n",
       "      <td>0.0</td>\n",
       "      <td>0.00</td>\n",
       "      <td>0.00000</td>\n",
       "      <td>0.00000</td>\n",
       "    </tr>\n",
       "    <tr>\n",
       "      <th>4</th>\n",
       "      <td>1460.0</td>\n",
       "      <td>2.70</td>\n",
       "      <td>0.00730</td>\n",
       "      <td>0.01825</td>\n",
       "    </tr>\n",
       "  </tbody>\n",
       "</table>\n",
       "</div>"
      ],
      "text/plain": [
       "   dispo_alim_kcal/pers/an  dispo_alim_kg/pers/an  \\\n",
       "0                   1825.0                   1.72   \n",
       "1                    365.0                   1.29   \n",
       "2                    365.0                   0.06   \n",
       "3                      0.0                   0.00   \n",
       "4                   1460.0                   2.70   \n",
       "\n",
       "   dispo_matiere_grasse_kg/pers/an  dispo_proteine_kg/pers/an  \n",
       "0                          0.07300                    0.28105  \n",
       "1                          0.00365                    0.00730  \n",
       "2                          0.00365                    0.01095  \n",
       "3                          0.00000                    0.00000  \n",
       "4                          0.00730                    0.01825  "
      ]
     },
     "execution_count": 9,
     "metadata": {},
     "output_type": "execute_result"
    }
   ],
   "source": [
    "# Variables de Disponibilité alimentaire: expression des quantités en kcal/personne/an et kg/personne/an\n",
    "\n",
    "dispo['dispo_alim_kcal/pers/j'] = dispo['dispo_alim_kcal/pers/j'] * 365              # kcal/pers/j --> kcal/pers/an \n",
    "dispo['dispo_matiere_grasse_g/pers/j'] = dispo['dispo_matiere_grasse_g/pers/j'] * 365 / 1000   # g/pers/j --> kg/pers/an\n",
    "dispo['dispo_proteine_g/pers/j'] = dispo['dispo_proteine_g/pers/j'] * 365 / 1000               # g/pers/j --> kg/pers/an\n",
    "\n",
    "# Renommage des variables de Disponibilité alimentaire\n",
    "\n",
    "dispo.rename(columns = {'dispo_alim_kcal/pers/j' : 'dispo_alim_kcal/pers/an', \n",
    "                        'dispo_matiere_grasse_g/pers/j': 'dispo_matiere_grasse_kg/pers/an',\n",
    "                        'dispo_proteine_g/pers/j' : 'dispo_proteine_kg/pers/an'}, inplace=True)\n",
    "dispo.iloc[:, 3:7].head()"
   ]
  },
  {
   "cell_type": "code",
   "execution_count": 10,
   "id": "1bc763b5",
   "metadata": {},
   "outputs": [
    {
     "data": {
      "text/html": [
       "<div>\n",
       "<style scoped>\n",
       "    .dataframe tbody tr th:only-of-type {\n",
       "        vertical-align: middle;\n",
       "    }\n",
       "\n",
       "    .dataframe tbody tr th {\n",
       "        vertical-align: top;\n",
       "    }\n",
       "\n",
       "    .dataframe thead th {\n",
       "        text-align: right;\n",
       "    }\n",
       "</style>\n",
       "<table border=\"1\" class=\"dataframe\">\n",
       "  <thead>\n",
       "    <tr style=\"text-align: right;\">\n",
       "      <th></th>\n",
       "      <th>pays</th>\n",
       "      <th>produit</th>\n",
       "      <th>origine</th>\n",
       "      <th>dispo_alim_kcal/pers/an</th>\n",
       "      <th>dispo_alim_kg/pers/an</th>\n",
       "      <th>dispo_matiere_grasse_kg/pers/an</th>\n",
       "      <th>dispo_proteine_kg/pers/an</th>\n",
       "      <th>aliments_animaux</th>\n",
       "      <th>autres_utilisations</th>\n",
       "      <th>dispo_interieure</th>\n",
       "      <th>qte_exportation</th>\n",
       "      <th>qte_importation</th>\n",
       "      <th>nourriture</th>\n",
       "      <th>pertes</th>\n",
       "      <th>production</th>\n",
       "      <th>semences</th>\n",
       "      <th>traitement</th>\n",
       "      <th>variation_stock</th>\n",
       "    </tr>\n",
       "  </thead>\n",
       "  <tbody>\n",
       "    <tr>\n",
       "      <th>0</th>\n",
       "      <td>Afghanistan</td>\n",
       "      <td>Abats Comestible</td>\n",
       "      <td>animale</td>\n",
       "      <td>1825.0</td>\n",
       "      <td>1.72</td>\n",
       "      <td>0.07300</td>\n",
       "      <td>0.28105</td>\n",
       "      <td>0.0</td>\n",
       "      <td>0.0</td>\n",
       "      <td>53000000.0</td>\n",
       "      <td>0.0</td>\n",
       "      <td>0.0</td>\n",
       "      <td>53000000.0</td>\n",
       "      <td>0.0</td>\n",
       "      <td>53000000.0</td>\n",
       "      <td>0.0</td>\n",
       "      <td>0.0</td>\n",
       "      <td>0.0</td>\n",
       "    </tr>\n",
       "    <tr>\n",
       "      <th>1</th>\n",
       "      <td>Afghanistan</td>\n",
       "      <td>Agrumes, Autres</td>\n",
       "      <td>vegetale</td>\n",
       "      <td>365.0</td>\n",
       "      <td>1.29</td>\n",
       "      <td>0.00365</td>\n",
       "      <td>0.00730</td>\n",
       "      <td>0.0</td>\n",
       "      <td>0.0</td>\n",
       "      <td>41000000.0</td>\n",
       "      <td>2000000.0</td>\n",
       "      <td>40000000.0</td>\n",
       "      <td>39000000.0</td>\n",
       "      <td>2000000.0</td>\n",
       "      <td>3000000.0</td>\n",
       "      <td>0.0</td>\n",
       "      <td>0.0</td>\n",
       "      <td>0.0</td>\n",
       "    </tr>\n",
       "    <tr>\n",
       "      <th>2</th>\n",
       "      <td>Afghanistan</td>\n",
       "      <td>Aliments pour enfants</td>\n",
       "      <td>vegetale</td>\n",
       "      <td>365.0</td>\n",
       "      <td>0.06</td>\n",
       "      <td>0.00365</td>\n",
       "      <td>0.01095</td>\n",
       "      <td>0.0</td>\n",
       "      <td>0.0</td>\n",
       "      <td>2000000.0</td>\n",
       "      <td>0.0</td>\n",
       "      <td>2000000.0</td>\n",
       "      <td>2000000.0</td>\n",
       "      <td>0.0</td>\n",
       "      <td>0.0</td>\n",
       "      <td>0.0</td>\n",
       "      <td>0.0</td>\n",
       "      <td>0.0</td>\n",
       "    </tr>\n",
       "    <tr>\n",
       "      <th>3</th>\n",
       "      <td>Afghanistan</td>\n",
       "      <td>Ananas</td>\n",
       "      <td>vegetale</td>\n",
       "      <td>0.0</td>\n",
       "      <td>0.00</td>\n",
       "      <td>0.00000</td>\n",
       "      <td>0.00000</td>\n",
       "      <td>0.0</td>\n",
       "      <td>0.0</td>\n",
       "      <td>0.0</td>\n",
       "      <td>0.0</td>\n",
       "      <td>0.0</td>\n",
       "      <td>0.0</td>\n",
       "      <td>0.0</td>\n",
       "      <td>0.0</td>\n",
       "      <td>0.0</td>\n",
       "      <td>0.0</td>\n",
       "      <td>0.0</td>\n",
       "    </tr>\n",
       "    <tr>\n",
       "      <th>4</th>\n",
       "      <td>Afghanistan</td>\n",
       "      <td>Bananes</td>\n",
       "      <td>vegetale</td>\n",
       "      <td>1460.0</td>\n",
       "      <td>2.70</td>\n",
       "      <td>0.00730</td>\n",
       "      <td>0.01825</td>\n",
       "      <td>0.0</td>\n",
       "      <td>0.0</td>\n",
       "      <td>82000000.0</td>\n",
       "      <td>0.0</td>\n",
       "      <td>82000000.0</td>\n",
       "      <td>82000000.0</td>\n",
       "      <td>0.0</td>\n",
       "      <td>0.0</td>\n",
       "      <td>0.0</td>\n",
       "      <td>0.0</td>\n",
       "      <td>0.0</td>\n",
       "    </tr>\n",
       "  </tbody>\n",
       "</table>\n",
       "</div>"
      ],
      "text/plain": [
       "          pays                produit   origine  dispo_alim_kcal/pers/an  \\\n",
       "0  Afghanistan       Abats Comestible   animale                   1825.0   \n",
       "1  Afghanistan        Agrumes, Autres  vegetale                    365.0   \n",
       "2  Afghanistan  Aliments pour enfants  vegetale                    365.0   \n",
       "3  Afghanistan                 Ananas  vegetale                      0.0   \n",
       "4  Afghanistan                Bananes  vegetale                   1460.0   \n",
       "\n",
       "   dispo_alim_kg/pers/an  dispo_matiere_grasse_kg/pers/an  \\\n",
       "0                   1.72                          0.07300   \n",
       "1                   1.29                          0.00365   \n",
       "2                   0.06                          0.00365   \n",
       "3                   0.00                          0.00000   \n",
       "4                   2.70                          0.00730   \n",
       "\n",
       "   dispo_proteine_kg/pers/an  aliments_animaux  autres_utilisations  \\\n",
       "0                    0.28105               0.0                  0.0   \n",
       "1                    0.00730               0.0                  0.0   \n",
       "2                    0.01095               0.0                  0.0   \n",
       "3                    0.00000               0.0                  0.0   \n",
       "4                    0.01825               0.0                  0.0   \n",
       "\n",
       "   dispo_interieure  qte_exportation  qte_importation  nourriture     pertes  \\\n",
       "0        53000000.0              0.0              0.0  53000000.0        0.0   \n",
       "1        41000000.0        2000000.0       40000000.0  39000000.0  2000000.0   \n",
       "2         2000000.0              0.0        2000000.0   2000000.0        0.0   \n",
       "3               0.0              0.0              0.0         0.0        0.0   \n",
       "4        82000000.0              0.0       82000000.0  82000000.0        0.0   \n",
       "\n",
       "   production  semences  traitement  variation_stock  \n",
       "0  53000000.0       0.0         0.0              0.0  \n",
       "1   3000000.0       0.0         0.0              0.0  \n",
       "2         0.0       0.0         0.0              0.0  \n",
       "3         0.0       0.0         0.0              0.0  \n",
       "4         0.0       0.0         0.0              0.0  "
      ]
     },
     "execution_count": 10,
     "metadata": {},
     "output_type": "execute_result"
    }
   ],
   "source": [
    "# Variables d'utilisations/moyens d'acquisition de disponibilité alimentaire: Conversion de 'milliers de tonnes' en 'kg'\n",
    "\n",
    "dispo.iloc[:, 7:] = dispo.iloc[:, 7:] * 1000000\n",
    "dispo.head()"
   ]
  },
  {
   "cell_type": "code",
   "execution_count": 11,
   "id": "e3417af6",
   "metadata": {
    "scrolled": true
   },
   "outputs": [
    {
     "data": {
      "text/plain": [
       "0"
      ]
     },
     "execution_count": 11,
     "metadata": {},
     "output_type": "execute_result"
    }
   ],
   "source": [
    "# Vérification des doublons\n",
    "\n",
    "dispo.loc[dispo[['pays', 'produit', 'origine', 'aliments_animaux', 'autres_utilisations', \n",
    "                 'dispo_interieure', 'qte_exportation']].duplicated(keep=False)].shape[0]"
   ]
  },
  {
   "cell_type": "code",
   "execution_count": 12,
   "id": "a8ee90a7",
   "metadata": {},
   "outputs": [
    {
     "data": {
      "text/html": [
       "<div>\n",
       "<style scoped>\n",
       "    .dataframe tbody tr th:only-of-type {\n",
       "        vertical-align: middle;\n",
       "    }\n",
       "\n",
       "    .dataframe tbody tr th {\n",
       "        vertical-align: top;\n",
       "    }\n",
       "\n",
       "    .dataframe thead th {\n",
       "        text-align: right;\n",
       "    }\n",
       "</style>\n",
       "<table border=\"1\" class=\"dataframe\">\n",
       "  <thead>\n",
       "    <tr style=\"text-align: right;\">\n",
       "      <th></th>\n",
       "      <th>dispo_alim_kcal/pers/an</th>\n",
       "      <th>dispo_alim_kg/pers/an</th>\n",
       "      <th>dispo_matiere_grasse_kg/pers/an</th>\n",
       "      <th>dispo_proteine_kg/pers/an</th>\n",
       "      <th>aliments_animaux</th>\n",
       "      <th>autres_utilisations</th>\n",
       "      <th>dispo_interieure</th>\n",
       "      <th>qte_exportation</th>\n",
       "      <th>qte_importation</th>\n",
       "      <th>nourriture</th>\n",
       "      <th>pertes</th>\n",
       "      <th>production</th>\n",
       "      <th>semences</th>\n",
       "      <th>traitement</th>\n",
       "      <th>variation_stock</th>\n",
       "    </tr>\n",
       "  </thead>\n",
       "  <tbody>\n",
       "    <tr>\n",
       "      <th>count</th>\n",
       "      <td>15605.000000</td>\n",
       "      <td>15605.000000</td>\n",
       "      <td>15605.000000</td>\n",
       "      <td>15605.000000</td>\n",
       "      <td>1.560500e+04</td>\n",
       "      <td>1.560500e+04</td>\n",
       "      <td>1.560500e+04</td>\n",
       "      <td>1.560500e+04</td>\n",
       "      <td>1.560500e+04</td>\n",
       "      <td>1.560500e+04</td>\n",
       "      <td>1.560500e+04</td>\n",
       "      <td>1.560500e+04</td>\n",
       "      <td>1.560500e+04</td>\n",
       "      <td>1.560500e+04</td>\n",
       "      <td>1.560500e+04</td>\n",
       "    </tr>\n",
       "    <tr>\n",
       "      <th>mean</th>\n",
       "      <td>11588.358219</td>\n",
       "      <td>7.830948</td>\n",
       "      <td>0.353960</td>\n",
       "      <td>0.330877</td>\n",
       "      <td>8.357866e+07</td>\n",
       "      <td>5.543243e+07</td>\n",
       "      <td>6.311435e+08</td>\n",
       "      <td>8.664902e+07</td>\n",
       "      <td>8.305370e+07</td>\n",
       "      <td>3.124805e+08</td>\n",
       "      <td>2.907389e+07</td>\n",
       "      <td>6.414406e+08</td>\n",
       "      <td>9.912272e+06</td>\n",
       "      <td>1.412808e+08</td>\n",
       "      <td>-6.690292e+06</td>\n",
       "    </tr>\n",
       "    <tr>\n",
       "      <th>std</th>\n",
       "      <td>37580.835780</td>\n",
       "      <td>23.478909</td>\n",
       "      <td>1.185044</td>\n",
       "      <td>1.147383</td>\n",
       "      <td>1.779289e+09</td>\n",
       "      <td>3.013630e+09</td>\n",
       "      <td>9.002564e+09</td>\n",
       "      <td>9.334352e+08</td>\n",
       "      <td>7.000995e+08</td>\n",
       "      <td>4.242855e+09</td>\n",
       "      <td>5.846722e+08</td>\n",
       "      <td>9.270864e+09</td>\n",
       "      <td>1.948978e+08</td>\n",
       "      <td>3.992568e+09</td>\n",
       "      <td>3.623808e+08</td>\n",
       "    </tr>\n",
       "    <tr>\n",
       "      <th>min</th>\n",
       "      <td>-7665.000000</td>\n",
       "      <td>-1.930000</td>\n",
       "      <td>-0.010950</td>\n",
       "      <td>-0.135050</td>\n",
       "      <td>0.000000e+00</td>\n",
       "      <td>0.000000e+00</td>\n",
       "      <td>-3.430000e+09</td>\n",
       "      <td>-4.100000e+07</td>\n",
       "      <td>-2.010000e+08</td>\n",
       "      <td>-2.460000e+08</td>\n",
       "      <td>0.000000e+00</td>\n",
       "      <td>0.000000e+00</td>\n",
       "      <td>0.000000e+00</td>\n",
       "      <td>-1.900000e+07</td>\n",
       "      <td>-3.986300e+10</td>\n",
       "    </tr>\n",
       "    <tr>\n",
       "      <th>25%</th>\n",
       "      <td>0.000000</td>\n",
       "      <td>0.010000</td>\n",
       "      <td>0.000000</td>\n",
       "      <td>0.000000</td>\n",
       "      <td>0.000000e+00</td>\n",
       "      <td>0.000000e+00</td>\n",
       "      <td>0.000000e+00</td>\n",
       "      <td>0.000000e+00</td>\n",
       "      <td>0.000000e+00</td>\n",
       "      <td>0.000000e+00</td>\n",
       "      <td>0.000000e+00</td>\n",
       "      <td>0.000000e+00</td>\n",
       "      <td>0.000000e+00</td>\n",
       "      <td>0.000000e+00</td>\n",
       "      <td>0.000000e+00</td>\n",
       "    </tr>\n",
       "    <tr>\n",
       "      <th>50%</th>\n",
       "      <td>1095.000000</td>\n",
       "      <td>0.520000</td>\n",
       "      <td>0.007300</td>\n",
       "      <td>0.007300</td>\n",
       "      <td>0.000000e+00</td>\n",
       "      <td>0.000000e+00</td>\n",
       "      <td>6.000000e+06</td>\n",
       "      <td>0.000000e+00</td>\n",
       "      <td>1.000000e+06</td>\n",
       "      <td>3.000000e+06</td>\n",
       "      <td>0.000000e+00</td>\n",
       "      <td>0.000000e+00</td>\n",
       "      <td>0.000000e+00</td>\n",
       "      <td>0.000000e+00</td>\n",
       "      <td>0.000000e+00</td>\n",
       "    </tr>\n",
       "    <tr>\n",
       "      <th>75%</th>\n",
       "      <td>6570.000000</td>\n",
       "      <td>4.270000</td>\n",
       "      <td>0.113150</td>\n",
       "      <td>0.127750</td>\n",
       "      <td>0.000000e+00</td>\n",
       "      <td>0.000000e+00</td>\n",
       "      <td>7.300000e+07</td>\n",
       "      <td>4.000000e+06</td>\n",
       "      <td>1.600000e+07</td>\n",
       "      <td>4.000000e+07</td>\n",
       "      <td>0.000000e+00</td>\n",
       "      <td>4.200000e+07</td>\n",
       "      <td>0.000000e+00</td>\n",
       "      <td>0.000000e+00</td>\n",
       "      <td>0.000000e+00</td>\n",
       "    </tr>\n",
       "    <tr>\n",
       "      <th>max</th>\n",
       "      <td>624515.000000</td>\n",
       "      <td>430.760000</td>\n",
       "      <td>22.177400</td>\n",
       "      <td>20.064050</td>\n",
       "      <td>1.500000e+11</td>\n",
       "      <td>3.473090e+11</td>\n",
       "      <td>7.392670e+11</td>\n",
       "      <td>4.279700e+10</td>\n",
       "      <td>6.338100e+10</td>\n",
       "      <td>4.268500e+11</td>\n",
       "      <td>5.504700e+10</td>\n",
       "      <td>7.392670e+11</td>\n",
       "      <td>1.706000e+10</td>\n",
       "      <td>3.267110e+11</td>\n",
       "      <td>5.284000e+09</td>\n",
       "    </tr>\n",
       "  </tbody>\n",
       "</table>\n",
       "</div>"
      ],
      "text/plain": [
       "       dispo_alim_kcal/pers/an  dispo_alim_kg/pers/an  \\\n",
       "count             15605.000000           15605.000000   \n",
       "mean              11588.358219               7.830948   \n",
       "std               37580.835780              23.478909   \n",
       "min               -7665.000000              -1.930000   \n",
       "25%                   0.000000               0.010000   \n",
       "50%                1095.000000               0.520000   \n",
       "75%                6570.000000               4.270000   \n",
       "max              624515.000000             430.760000   \n",
       "\n",
       "       dispo_matiere_grasse_kg/pers/an  dispo_proteine_kg/pers/an  \\\n",
       "count                     15605.000000               15605.000000   \n",
       "mean                          0.353960                   0.330877   \n",
       "std                           1.185044                   1.147383   \n",
       "min                          -0.010950                  -0.135050   \n",
       "25%                           0.000000                   0.000000   \n",
       "50%                           0.007300                   0.007300   \n",
       "75%                           0.113150                   0.127750   \n",
       "max                          22.177400                  20.064050   \n",
       "\n",
       "       aliments_animaux  autres_utilisations  dispo_interieure  \\\n",
       "count      1.560500e+04         1.560500e+04      1.560500e+04   \n",
       "mean       8.357866e+07         5.543243e+07      6.311435e+08   \n",
       "std        1.779289e+09         3.013630e+09      9.002564e+09   \n",
       "min        0.000000e+00         0.000000e+00     -3.430000e+09   \n",
       "25%        0.000000e+00         0.000000e+00      0.000000e+00   \n",
       "50%        0.000000e+00         0.000000e+00      6.000000e+06   \n",
       "75%        0.000000e+00         0.000000e+00      7.300000e+07   \n",
       "max        1.500000e+11         3.473090e+11      7.392670e+11   \n",
       "\n",
       "       qte_exportation  qte_importation    nourriture        pertes  \\\n",
       "count     1.560500e+04     1.560500e+04  1.560500e+04  1.560500e+04   \n",
       "mean      8.664902e+07     8.305370e+07  3.124805e+08  2.907389e+07   \n",
       "std       9.334352e+08     7.000995e+08  4.242855e+09  5.846722e+08   \n",
       "min      -4.100000e+07    -2.010000e+08 -2.460000e+08  0.000000e+00   \n",
       "25%       0.000000e+00     0.000000e+00  0.000000e+00  0.000000e+00   \n",
       "50%       0.000000e+00     1.000000e+06  3.000000e+06  0.000000e+00   \n",
       "75%       4.000000e+06     1.600000e+07  4.000000e+07  0.000000e+00   \n",
       "max       4.279700e+10     6.338100e+10  4.268500e+11  5.504700e+10   \n",
       "\n",
       "         production      semences    traitement  variation_stock  \n",
       "count  1.560500e+04  1.560500e+04  1.560500e+04     1.560500e+04  \n",
       "mean   6.414406e+08  9.912272e+06  1.412808e+08    -6.690292e+06  \n",
       "std    9.270864e+09  1.948978e+08  3.992568e+09     3.623808e+08  \n",
       "min    0.000000e+00  0.000000e+00 -1.900000e+07    -3.986300e+10  \n",
       "25%    0.000000e+00  0.000000e+00  0.000000e+00     0.000000e+00  \n",
       "50%    0.000000e+00  0.000000e+00  0.000000e+00     0.000000e+00  \n",
       "75%    4.200000e+07  0.000000e+00  0.000000e+00     0.000000e+00  \n",
       "max    7.392670e+11  1.706000e+10  3.267110e+11     5.284000e+09  "
      ]
     },
     "execution_count": 12,
     "metadata": {},
     "output_type": "execute_result"
    }
   ],
   "source": [
    "# Vérification de valeurs aberrantes et atypiques\n",
    "\n",
    "dispo.describe()"
   ]
  },
  {
   "cell_type": "markdown",
   "id": "f9c4227e",
   "metadata": {},
   "source": [
    "### <a id=\"A2.2\">2.Table de Sous-nutrition</a>"
   ]
  },
  {
   "cell_type": "code",
   "execution_count": 13,
   "id": "bee1ac98",
   "metadata": {
    "scrolled": false
   },
   "outputs": [
    {
     "data": {
      "text/html": [
       "<div>\n",
       "<style scoped>\n",
       "    .dataframe tbody tr th:only-of-type {\n",
       "        vertical-align: middle;\n",
       "    }\n",
       "\n",
       "    .dataframe tbody tr th {\n",
       "        vertical-align: top;\n",
       "    }\n",
       "\n",
       "    .dataframe thead th {\n",
       "        text-align: right;\n",
       "    }\n",
       "</style>\n",
       "<table border=\"1\" class=\"dataframe\">\n",
       "  <thead>\n",
       "    <tr style=\"text-align: right;\">\n",
       "      <th></th>\n",
       "      <th>Zone</th>\n",
       "      <th>Année</th>\n",
       "      <th>Valeur</th>\n",
       "    </tr>\n",
       "  </thead>\n",
       "  <tbody>\n",
       "    <tr>\n",
       "      <th>0</th>\n",
       "      <td>Afghanistan</td>\n",
       "      <td>2012-2014</td>\n",
       "      <td>8.6</td>\n",
       "    </tr>\n",
       "    <tr>\n",
       "      <th>1</th>\n",
       "      <td>Afghanistan</td>\n",
       "      <td>2013-2015</td>\n",
       "      <td>8.8</td>\n",
       "    </tr>\n",
       "    <tr>\n",
       "      <th>2</th>\n",
       "      <td>Afghanistan</td>\n",
       "      <td>2014-2016</td>\n",
       "      <td>8.9</td>\n",
       "    </tr>\n",
       "    <tr>\n",
       "      <th>3</th>\n",
       "      <td>Afghanistan</td>\n",
       "      <td>2015-2017</td>\n",
       "      <td>9.7</td>\n",
       "    </tr>\n",
       "    <tr>\n",
       "      <th>4</th>\n",
       "      <td>Afghanistan</td>\n",
       "      <td>2016-2018</td>\n",
       "      <td>10.5</td>\n",
       "    </tr>\n",
       "  </tbody>\n",
       "</table>\n",
       "</div>"
      ],
      "text/plain": [
       "          Zone      Année Valeur\n",
       "0  Afghanistan  2012-2014    8.6\n",
       "1  Afghanistan  2013-2015    8.8\n",
       "2  Afghanistan  2014-2016    8.9\n",
       "3  Afghanistan  2015-2017    9.7\n",
       "4  Afghanistan  2016-2018   10.5"
      ]
     },
     "execution_count": 13,
     "metadata": {},
     "output_type": "execute_result"
    }
   ],
   "source": [
    "# Affichage des données de Sous-nutrition ou d'insécurité alimentaire\n",
    "\n",
    "sous_nut = pd.read_csv('sous_nutrition.csv')\n",
    "sous_nut.head()"
   ]
  },
  {
   "cell_type": "code",
   "execution_count": 14,
   "id": "c64f8389",
   "metadata": {},
   "outputs": [
    {
     "data": {
      "text/plain": [
       "(1218, 3)"
      ]
     },
     "execution_count": 14,
     "metadata": {},
     "output_type": "execute_result"
    }
   ],
   "source": [
    "# Vérification des dimension du dataframe\n",
    "\n",
    "sous_nut.shape"
   ]
  },
  {
   "cell_type": "code",
   "execution_count": 15,
   "id": "bee909f1",
   "metadata": {},
   "outputs": [
    {
     "data": {
      "text/html": [
       "<div>\n",
       "<style scoped>\n",
       "    .dataframe tbody tr th:only-of-type {\n",
       "        vertical-align: middle;\n",
       "    }\n",
       "\n",
       "    .dataframe tbody tr th {\n",
       "        vertical-align: top;\n",
       "    }\n",
       "\n",
       "    .dataframe thead th {\n",
       "        text-align: right;\n",
       "    }\n",
       "</style>\n",
       "<table border=\"1\" class=\"dataframe\">\n",
       "  <thead>\n",
       "    <tr style=\"text-align: right;\">\n",
       "      <th></th>\n",
       "      <th>pays</th>\n",
       "      <th>annee</th>\n",
       "      <th>pop_sous_nut</th>\n",
       "    </tr>\n",
       "  </thead>\n",
       "  <tbody>\n",
       "    <tr>\n",
       "      <th>0</th>\n",
       "      <td>Afghanistan</td>\n",
       "      <td>2012-2014</td>\n",
       "      <td>8.6</td>\n",
       "    </tr>\n",
       "    <tr>\n",
       "      <th>1</th>\n",
       "      <td>Afghanistan</td>\n",
       "      <td>2013-2015</td>\n",
       "      <td>8.8</td>\n",
       "    </tr>\n",
       "    <tr>\n",
       "      <th>2</th>\n",
       "      <td>Afghanistan</td>\n",
       "      <td>2014-2016</td>\n",
       "      <td>8.9</td>\n",
       "    </tr>\n",
       "    <tr>\n",
       "      <th>3</th>\n",
       "      <td>Afghanistan</td>\n",
       "      <td>2015-2017</td>\n",
       "      <td>9.7</td>\n",
       "    </tr>\n",
       "    <tr>\n",
       "      <th>4</th>\n",
       "      <td>Afghanistan</td>\n",
       "      <td>2016-2018</td>\n",
       "      <td>10.5</td>\n",
       "    </tr>\n",
       "  </tbody>\n",
       "</table>\n",
       "</div>"
      ],
      "text/plain": [
       "          pays      annee pop_sous_nut\n",
       "0  Afghanistan  2012-2014          8.6\n",
       "1  Afghanistan  2013-2015          8.8\n",
       "2  Afghanistan  2014-2016          8.9\n",
       "3  Afghanistan  2015-2017          9.7\n",
       "4  Afghanistan  2016-2018         10.5"
      ]
     },
     "execution_count": 15,
     "metadata": {},
     "output_type": "execute_result"
    }
   ],
   "source": [
    "# Renommage des variables\n",
    "\n",
    "sous_nut.rename(columns = {'Zone': 'pays', 'Année': 'annee', 'Valeur': 'pop_sous_nut'}, inplace = True)\n",
    "sous_nut.head()"
   ]
  },
  {
   "cell_type": "code",
   "execution_count": 16,
   "id": "3a66aa52",
   "metadata": {},
   "outputs": [
    {
     "data": {
      "text/plain": [
       "pays            object\n",
       "annee           object\n",
       "pop_sous_nut    object\n",
       "dtype: object"
      ]
     },
     "execution_count": 16,
     "metadata": {},
     "output_type": "execute_result"
    }
   ],
   "source": [
    "# Vérification des erreurs de type\n",
    "\n",
    "sous_nut.dtypes"
   ]
  },
  {
   "cell_type": "code",
   "execution_count": 17,
   "id": "3709ff89",
   "metadata": {},
   "outputs": [
    {
     "data": {
      "text/html": [
       "<div>\n",
       "<style scoped>\n",
       "    .dataframe tbody tr th:only-of-type {\n",
       "        vertical-align: middle;\n",
       "    }\n",
       "\n",
       "    .dataframe tbody tr th {\n",
       "        vertical-align: top;\n",
       "    }\n",
       "\n",
       "    .dataframe thead th {\n",
       "        text-align: right;\n",
       "    }\n",
       "</style>\n",
       "<table border=\"1\" class=\"dataframe\">\n",
       "  <thead>\n",
       "    <tr style=\"text-align: right;\">\n",
       "      <th></th>\n",
       "      <th>pays</th>\n",
       "      <th>annee</th>\n",
       "      <th>pop_sous_nut</th>\n",
       "    </tr>\n",
       "  </thead>\n",
       "  <tbody>\n",
       "    <tr>\n",
       "      <th>0</th>\n",
       "      <td>Afghanistan</td>\n",
       "      <td>2013</td>\n",
       "      <td>8.6</td>\n",
       "    </tr>\n",
       "    <tr>\n",
       "      <th>1</th>\n",
       "      <td>Afghanistan</td>\n",
       "      <td>2014</td>\n",
       "      <td>8.8</td>\n",
       "    </tr>\n",
       "    <tr>\n",
       "      <th>2</th>\n",
       "      <td>Afghanistan</td>\n",
       "      <td>2015</td>\n",
       "      <td>8.9</td>\n",
       "    </tr>\n",
       "    <tr>\n",
       "      <th>3</th>\n",
       "      <td>Afghanistan</td>\n",
       "      <td>2016</td>\n",
       "      <td>9.7</td>\n",
       "    </tr>\n",
       "    <tr>\n",
       "      <th>4</th>\n",
       "      <td>Afghanistan</td>\n",
       "      <td>2017</td>\n",
       "      <td>10.5</td>\n",
       "    </tr>\n",
       "  </tbody>\n",
       "</table>\n",
       "</div>"
      ],
      "text/plain": [
       "          pays  annee pop_sous_nut\n",
       "0  Afghanistan   2013          8.6\n",
       "1  Afghanistan   2014          8.8\n",
       "2  Afghanistan   2015          8.9\n",
       "3  Afghanistan   2016          9.7\n",
       "4  Afghanistan   2017         10.5"
      ]
     },
     "execution_count": 17,
     "metadata": {},
     "output_type": "execute_result"
    }
   ],
   "source": [
    "# Normalisation de la Table 'annee'\n",
    "\n",
    "sous_nut['annee'].value_counts()                                # liste les différentes années et le nombre répétition\n",
    "sous_nut['annee'] = sous_nut['annee'].map({'2012-2014': 2013,   # On choisit la moyenne des 3 années\n",
    "                                           '2013-2015': 2014, \n",
    "                                           '2014-2016': 2015, \n",
    "                                           '2015-2017': 2016, \n",
    "                                           '2016-2018': 2017, \n",
    "                                           '2017-2019': 2018})\n",
    "sous_nut.head()"
   ]
  },
  {
   "cell_type": "code",
   "execution_count": 18,
   "id": "2b29a176",
   "metadata": {},
   "outputs": [
    {
     "data": {
      "text/plain": [
       "pays            object\n",
       "annee            int64\n",
       "pop_sous_nut    object\n",
       "dtype: object"
      ]
     },
     "execution_count": 18,
     "metadata": {},
     "output_type": "execute_result"
    }
   ],
   "source": [
    "# Variable 'annee': Changement du type en entier (integer)\n",
    "\n",
    "sous_nut['annee'] = pd.to_numeric(sous_nut['annee'])\n",
    "sous_nut.dtypes"
   ]
  },
  {
   "cell_type": "code",
   "execution_count": 19,
   "id": "45372a0f",
   "metadata": {},
   "outputs": [
    {
     "data": {
      "text/plain": [
       "array(['8.6', '8.8', '8.9', '9.7', '10.5', '11.1', '2.2', '2.5', '2.8',\n",
       "       '3', '3.1', '3.3', '0.1', '1.3', '1.2', nan, '7.6', '6.2', '5.3',\n",
       "       '5.6', '5.8', '5.7', '1.5', '1.6', '1.1', '1.7', '<0.1', '21.7',\n",
       "       '22.4', '23.3', '22.3', '21.5', '20.9', '0.8', '2', '1.9', '1.8',\n",
       "       '0.4', '0.5', '0.3', '0.2', '3.2', '3.4', '3.6', '3.8', '2.1',\n",
       "       '2.3', '2.4', '0.6', '0.7', '0.9', '3.9', '2.7', '1.4', '4.8',\n",
       "       '4.6', '4.9', '5', '4.4', '4.3', '4.2', '4.5', '26.2', '24.3',\n",
       "       '21.3', '21.1', '2.9', '5.1', '5.2', '5.4', '203.8', '198.3',\n",
       "       '193.1', '190.9', '190.1', '189.2', '23.6', '24', '24.1', '3.7',\n",
       "       '7.3', '7.8', '8.4', '9', '9.1', '10.1', '10', '10.7', '11.5',\n",
       "       '11.9', '11.8', '8.7', '10.3', '11', '1', '5.5', '6.8', '7.9',\n",
       "       '5.9', '7', '9.2', '9.4', '9.6', '6.7', '7.1', '7.2', '14.7',\n",
       "       '17.4', '20.2', '22.2', '22.8', '24.6', '31.1', '28.5', '25.4',\n",
       "       '24.8', '26.1', '14.5', '15.4', '16.5', '15.8', '15.7', '10.8',\n",
       "       '11.2', '11.6', '12', '12.2', '13.5', '13.2', '12.8', '13', '13.4',\n",
       "       '14.1', '4.1', '6.1', '6', '6.5', '2.6', '8', '8.3'], dtype=object)"
      ]
     },
     "execution_count": 19,
     "metadata": {},
     "output_type": "execute_result"
    }
   ],
   "source": [
    "# Variable 'nbre_personnes': Vérification des valeurs uniques\n",
    "\n",
    "sous_nut['pop_sous_nut'].unique()"
   ]
  },
  {
   "cell_type": "code",
   "execution_count": 20,
   "id": "39a64554",
   "metadata": {},
   "outputs": [
    {
     "data": {
      "text/plain": [
       "array(['8.6', '8.8', '8.9', '9.7', '10.5', '11.1', '2.2', '2.5', '2.8',\n",
       "       '3', '3.1', '3.3', '0.1', '1.3', '1.2', 0, '7.6', '6.2', '5.3',\n",
       "       '5.6', '5.8', '5.7', '1.5', '1.6', '1.1', '1.7', '21.7', '22.4',\n",
       "       '23.3', '22.3', '21.5', '20.9', '0.8', '2', '1.9', '1.8', '0.4',\n",
       "       '0.5', '0.3', '0.2', '3.2', '3.4', '3.6', '3.8', '2.1', '2.3',\n",
       "       '2.4', '0.6', '0.7', '0.9', '3.9', '2.7', '1.4', '4.8', '4.6',\n",
       "       '4.9', '5', '4.4', '4.3', '4.2', '4.5', '26.2', '24.3', '21.3',\n",
       "       '21.1', '2.9', '5.1', '5.2', '5.4', '203.8', '198.3', '193.1',\n",
       "       '190.9', '190.1', '189.2', '23.6', '24', '24.1', '3.7', '7.3',\n",
       "       '7.8', '8.4', '9', '9.1', '10.1', '10', '10.7', '11.5', '11.9',\n",
       "       '11.8', '8.7', '10.3', '11', '1', '5.5', '6.8', '7.9', '5.9', '7',\n",
       "       '9.2', '9.4', '9.6', '6.7', '7.1', '7.2', '14.7', '17.4', '20.2',\n",
       "       '22.2', '22.8', '24.6', '31.1', '28.5', '25.4', '24.8', '26.1',\n",
       "       '14.5', '15.4', '16.5', '15.8', '15.7', '10.8', '11.2', '11.6',\n",
       "       '12', '12.2', '13.5', '13.2', '12.8', '13', '13.4', '14.1', '4.1',\n",
       "       '6.1', '6', '6.5', '2.6', '8', '8.3'], dtype=object)"
      ]
     },
     "execution_count": 20,
     "metadata": {},
     "output_type": "execute_result"
    }
   ],
   "source": [
    "# Variable 'nbre_personnes': Remplacement des valeurs 'Nan' et '<0.1' par des '0'\n",
    "\n",
    "sous_nut.loc[(sous_nut['pop_sous_nut'] == '<0.1') | (sous_nut['pop_sous_nut'].isnull()), 'pop_sous_nut'] = 0\n",
    "sous_nut['pop_sous_nut'].unique()"
   ]
  },
  {
   "cell_type": "code",
   "execution_count": 21,
   "id": "92b0473a",
   "metadata": {},
   "outputs": [
    {
     "data": {
      "text/plain": [
       "pays            object\n",
       "annee            int64\n",
       "pop_sous_nut     int64\n",
       "dtype: object"
      ]
     },
     "execution_count": 21,
     "metadata": {},
     "output_type": "execute_result"
    }
   ],
   "source": [
    "# Variable 'nbre_personnes': Changement du type en entier (integer) et d'unité\n",
    "\n",
    "sous_nut['pop_sous_nut'] = pd.to_numeric(sous_nut['pop_sous_nut'], downcast = 'float') # Passage au format décimal\n",
    "sous_nut['pop_sous_nut'] = sous_nut['pop_sous_nut'] * 1000000   # Passage de millions d'habitants à habitants \n",
    "\n",
    "sous_nut = sous_nut.astype({\"pop_sous_nut\": np.dtype(\"int64\")}) # Conversion en entier(integer)\n",
    "sous_nut.dtypes"
   ]
  },
  {
   "cell_type": "code",
   "execution_count": 22,
   "id": "94fcf217",
   "metadata": {},
   "outputs": [
    {
     "data": {
      "text/plain": [
       "pays            0\n",
       "annee           0\n",
       "pop_sous_nut    0\n",
       "dtype: int64"
      ]
     },
     "execution_count": 22,
     "metadata": {},
     "output_type": "execute_result"
    }
   ],
   "source": [
    "# Vérification des Valeurs manquantes\n",
    "\n",
    "sous_nut.isnull().sum()"
   ]
  },
  {
   "cell_type": "code",
   "execution_count": 23,
   "id": "59abec7a",
   "metadata": {},
   "outputs": [
    {
     "data": {
      "text/plain": [
       "0"
      ]
     },
     "execution_count": 23,
     "metadata": {},
     "output_type": "execute_result"
    }
   ],
   "source": [
    "# Vérification des doublons\n",
    "\n",
    "sous_nut.loc[sous_nut[['pays','annee','pop_sous_nut']].duplicated(keep = False)].shape[0]"
   ]
  },
  {
   "cell_type": "code",
   "execution_count": 24,
   "id": "39057978",
   "metadata": {},
   "outputs": [
    {
     "data": {
      "text/html": [
       "<div>\n",
       "<style scoped>\n",
       "    .dataframe tbody tr th:only-of-type {\n",
       "        vertical-align: middle;\n",
       "    }\n",
       "\n",
       "    .dataframe tbody tr th {\n",
       "        vertical-align: top;\n",
       "    }\n",
       "\n",
       "    .dataframe thead th {\n",
       "        text-align: right;\n",
       "    }\n",
       "</style>\n",
       "<table border=\"1\" class=\"dataframe\">\n",
       "  <thead>\n",
       "    <tr style=\"text-align: right;\">\n",
       "      <th></th>\n",
       "      <th>annee</th>\n",
       "      <th>pop_sous_nut</th>\n",
       "    </tr>\n",
       "  </thead>\n",
       "  <tbody>\n",
       "    <tr>\n",
       "      <th>count</th>\n",
       "      <td>1218.000000</td>\n",
       "      <td>1.218000e+03</td>\n",
       "    </tr>\n",
       "    <tr>\n",
       "      <th>mean</th>\n",
       "      <td>2015.500000</td>\n",
       "      <td>2.614778e+06</td>\n",
       "    </tr>\n",
       "    <tr>\n",
       "      <th>std</th>\n",
       "      <td>1.708527</td>\n",
       "      <td>1.414881e+07</td>\n",
       "    </tr>\n",
       "    <tr>\n",
       "      <th>min</th>\n",
       "      <td>2013.000000</td>\n",
       "      <td>0.000000e+00</td>\n",
       "    </tr>\n",
       "    <tr>\n",
       "      <th>25%</th>\n",
       "      <td>2014.000000</td>\n",
       "      <td>0.000000e+00</td>\n",
       "    </tr>\n",
       "    <tr>\n",
       "      <th>50%</th>\n",
       "      <td>2015.500000</td>\n",
       "      <td>0.000000e+00</td>\n",
       "    </tr>\n",
       "    <tr>\n",
       "      <th>75%</th>\n",
       "      <td>2017.000000</td>\n",
       "      <td>1.200000e+06</td>\n",
       "    </tr>\n",
       "    <tr>\n",
       "      <th>max</th>\n",
       "      <td>2018.000000</td>\n",
       "      <td>2.038000e+08</td>\n",
       "    </tr>\n",
       "  </tbody>\n",
       "</table>\n",
       "</div>"
      ],
      "text/plain": [
       "             annee  pop_sous_nut\n",
       "count  1218.000000  1.218000e+03\n",
       "mean   2015.500000  2.614778e+06\n",
       "std       1.708527  1.414881e+07\n",
       "min    2013.000000  0.000000e+00\n",
       "25%    2014.000000  0.000000e+00\n",
       "50%    2015.500000  0.000000e+00\n",
       "75%    2017.000000  1.200000e+06\n",
       "max    2018.000000  2.038000e+08"
      ]
     },
     "execution_count": 24,
     "metadata": {},
     "output_type": "execute_result"
    }
   ],
   "source": [
    "# Vérification de valeurs aberrantes et atypiques\n",
    "\n",
    "sous_nut.describe()"
   ]
  },
  {
   "cell_type": "markdown",
   "id": "f2152677",
   "metadata": {},
   "source": [
    "### <a id=\"A2.3\">3.Table de Population</a>"
   ]
  },
  {
   "cell_type": "code",
   "execution_count": 25,
   "id": "fb9ae00b",
   "metadata": {
    "scrolled": true
   },
   "outputs": [
    {
     "data": {
      "text/html": [
       "<div>\n",
       "<style scoped>\n",
       "    .dataframe tbody tr th:only-of-type {\n",
       "        vertical-align: middle;\n",
       "    }\n",
       "\n",
       "    .dataframe tbody tr th {\n",
       "        vertical-align: top;\n",
       "    }\n",
       "\n",
       "    .dataframe thead th {\n",
       "        text-align: right;\n",
       "    }\n",
       "</style>\n",
       "<table border=\"1\" class=\"dataframe\">\n",
       "  <thead>\n",
       "    <tr style=\"text-align: right;\">\n",
       "      <th></th>\n",
       "      <th>Zone</th>\n",
       "      <th>Année</th>\n",
       "      <th>Valeur</th>\n",
       "    </tr>\n",
       "  </thead>\n",
       "  <tbody>\n",
       "    <tr>\n",
       "      <th>0</th>\n",
       "      <td>Afghanistan</td>\n",
       "      <td>2013</td>\n",
       "      <td>32269.589</td>\n",
       "    </tr>\n",
       "    <tr>\n",
       "      <th>1</th>\n",
       "      <td>Afghanistan</td>\n",
       "      <td>2014</td>\n",
       "      <td>33370.794</td>\n",
       "    </tr>\n",
       "    <tr>\n",
       "      <th>2</th>\n",
       "      <td>Afghanistan</td>\n",
       "      <td>2015</td>\n",
       "      <td>34413.603</td>\n",
       "    </tr>\n",
       "    <tr>\n",
       "      <th>3</th>\n",
       "      <td>Afghanistan</td>\n",
       "      <td>2016</td>\n",
       "      <td>35383.032</td>\n",
       "    </tr>\n",
       "    <tr>\n",
       "      <th>4</th>\n",
       "      <td>Afghanistan</td>\n",
       "      <td>2017</td>\n",
       "      <td>36296.113</td>\n",
       "    </tr>\n",
       "  </tbody>\n",
       "</table>\n",
       "</div>"
      ],
      "text/plain": [
       "          Zone  Année     Valeur\n",
       "0  Afghanistan   2013  32269.589\n",
       "1  Afghanistan   2014  33370.794\n",
       "2  Afghanistan   2015  34413.603\n",
       "3  Afghanistan   2016  35383.032\n",
       "4  Afghanistan   2017  36296.113"
      ]
     },
     "execution_count": 25,
     "metadata": {},
     "output_type": "execute_result"
    }
   ],
   "source": [
    "# Affichage des données de Population\n",
    "\n",
    "pop = pd.read_csv('population.csv')\n",
    "pop.head()"
   ]
  },
  {
   "cell_type": "code",
   "execution_count": 26,
   "id": "1218795f",
   "metadata": {},
   "outputs": [
    {
     "data": {
      "text/plain": [
       "(1416, 3)"
      ]
     },
     "execution_count": 26,
     "metadata": {},
     "output_type": "execute_result"
    }
   ],
   "source": [
    "# Vérification des dimension du dataframe\n",
    "\n",
    "pop.shape"
   ]
  },
  {
   "cell_type": "code",
   "execution_count": 27,
   "id": "8fa1a34b",
   "metadata": {},
   "outputs": [
    {
     "data": {
      "text/html": [
       "<div>\n",
       "<style scoped>\n",
       "    .dataframe tbody tr th:only-of-type {\n",
       "        vertical-align: middle;\n",
       "    }\n",
       "\n",
       "    .dataframe tbody tr th {\n",
       "        vertical-align: top;\n",
       "    }\n",
       "\n",
       "    .dataframe thead th {\n",
       "        text-align: right;\n",
       "    }\n",
       "</style>\n",
       "<table border=\"1\" class=\"dataframe\">\n",
       "  <thead>\n",
       "    <tr style=\"text-align: right;\">\n",
       "      <th></th>\n",
       "      <th>pays</th>\n",
       "      <th>annee</th>\n",
       "      <th>population</th>\n",
       "    </tr>\n",
       "  </thead>\n",
       "  <tbody>\n",
       "    <tr>\n",
       "      <th>0</th>\n",
       "      <td>Afghanistan</td>\n",
       "      <td>2013</td>\n",
       "      <td>32269.589</td>\n",
       "    </tr>\n",
       "    <tr>\n",
       "      <th>1</th>\n",
       "      <td>Afghanistan</td>\n",
       "      <td>2014</td>\n",
       "      <td>33370.794</td>\n",
       "    </tr>\n",
       "    <tr>\n",
       "      <th>2</th>\n",
       "      <td>Afghanistan</td>\n",
       "      <td>2015</td>\n",
       "      <td>34413.603</td>\n",
       "    </tr>\n",
       "    <tr>\n",
       "      <th>3</th>\n",
       "      <td>Afghanistan</td>\n",
       "      <td>2016</td>\n",
       "      <td>35383.032</td>\n",
       "    </tr>\n",
       "    <tr>\n",
       "      <th>4</th>\n",
       "      <td>Afghanistan</td>\n",
       "      <td>2017</td>\n",
       "      <td>36296.113</td>\n",
       "    </tr>\n",
       "  </tbody>\n",
       "</table>\n",
       "</div>"
      ],
      "text/plain": [
       "          pays  annee  population\n",
       "0  Afghanistan   2013   32269.589\n",
       "1  Afghanistan   2014   33370.794\n",
       "2  Afghanistan   2015   34413.603\n",
       "3  Afghanistan   2016   35383.032\n",
       "4  Afghanistan   2017   36296.113"
      ]
     },
     "execution_count": 27,
     "metadata": {},
     "output_type": "execute_result"
    }
   ],
   "source": [
    "# Renommage des variables\n",
    "\n",
    "pop.rename(columns = {'Zone': 'pays', 'Année': 'annee', 'Valeur': 'population'}, inplace = True)\n",
    "pop.head()"
   ]
  },
  {
   "cell_type": "code",
   "execution_count": 28,
   "id": "2714cbe9",
   "metadata": {},
   "outputs": [
    {
     "data": {
      "text/plain": [
       "pays           object\n",
       "annee           int64\n",
       "population    float64\n",
       "dtype: object"
      ]
     },
     "execution_count": 28,
     "metadata": {},
     "output_type": "execute_result"
    }
   ],
   "source": [
    "# Vérification des erreurs de type\n",
    "\n",
    "pop.dtypes"
   ]
  },
  {
   "cell_type": "code",
   "execution_count": 29,
   "id": "de5669be",
   "metadata": {},
   "outputs": [
    {
     "data": {
      "text/plain": [
       "pays          object\n",
       "annee          int64\n",
       "population     int64\n",
       "dtype: object"
      ]
     },
     "execution_count": 29,
     "metadata": {},
     "output_type": "execute_result"
    }
   ],
   "source": [
    "# Variable 'population': Changement du type en entier(integer) et d'unité\n",
    "\n",
    "pop['population'] = pop['population'] * 1000\n",
    "pop = pop.astype({\"population\": np.dtype(\"int64\")})\n",
    "pop.dtypes"
   ]
  },
  {
   "cell_type": "code",
   "execution_count": 30,
   "id": "d43a5b88",
   "metadata": {},
   "outputs": [
    {
     "data": {
      "text/plain": [
       "pays          0\n",
       "annee         0\n",
       "population    0\n",
       "dtype: int64"
      ]
     },
     "execution_count": 30,
     "metadata": {},
     "output_type": "execute_result"
    }
   ],
   "source": [
    "# Vérification des Valeurs manquantes\n",
    "\n",
    "pop.isnull().sum()"
   ]
  },
  {
   "cell_type": "code",
   "execution_count": 31,
   "id": "6e7882ac",
   "metadata": {},
   "outputs": [
    {
     "data": {
      "text/plain": [
       "0"
      ]
     },
     "execution_count": 31,
     "metadata": {},
     "output_type": "execute_result"
    }
   ],
   "source": [
    "# Vérification des doublons\n",
    "\n",
    "pop.loc[pop[['pays', 'annee', 'population']].duplicated(keep = False), :].shape[0]"
   ]
  },
  {
   "cell_type": "code",
   "execution_count": 32,
   "id": "df6edb4d",
   "metadata": {},
   "outputs": [
    {
     "data": {
      "text/html": [
       "<div>\n",
       "<style scoped>\n",
       "    .dataframe tbody tr th:only-of-type {\n",
       "        vertical-align: middle;\n",
       "    }\n",
       "\n",
       "    .dataframe tbody tr th {\n",
       "        vertical-align: top;\n",
       "    }\n",
       "\n",
       "    .dataframe thead th {\n",
       "        text-align: right;\n",
       "    }\n",
       "</style>\n",
       "<table border=\"1\" class=\"dataframe\">\n",
       "  <thead>\n",
       "    <tr style=\"text-align: right;\">\n",
       "      <th></th>\n",
       "      <th>annee</th>\n",
       "      <th>population</th>\n",
       "    </tr>\n",
       "  </thead>\n",
       "  <tbody>\n",
       "    <tr>\n",
       "      <th>count</th>\n",
       "      <td>1416.000000</td>\n",
       "      <td>1.416000e+03</td>\n",
       "    </tr>\n",
       "    <tr>\n",
       "      <th>mean</th>\n",
       "      <td>2015.500000</td>\n",
       "      <td>3.144793e+07</td>\n",
       "    </tr>\n",
       "    <tr>\n",
       "      <th>std</th>\n",
       "      <td>1.708428</td>\n",
       "      <td>1.300812e+08</td>\n",
       "    </tr>\n",
       "    <tr>\n",
       "      <th>min</th>\n",
       "      <td>2013.000000</td>\n",
       "      <td>7.920000e+02</td>\n",
       "    </tr>\n",
       "    <tr>\n",
       "      <th>25%</th>\n",
       "      <td>2014.000000</td>\n",
       "      <td>3.783410e+05</td>\n",
       "    </tr>\n",
       "    <tr>\n",
       "      <th>50%</th>\n",
       "      <td>2015.500000</td>\n",
       "      <td>5.126480e+06</td>\n",
       "    </tr>\n",
       "    <tr>\n",
       "      <th>75%</th>\n",
       "      <td>2017.000000</td>\n",
       "      <td>1.930666e+07</td>\n",
       "    </tr>\n",
       "    <tr>\n",
       "      <th>max</th>\n",
       "      <td>2018.000000</td>\n",
       "      <td>1.427648e+09</td>\n",
       "    </tr>\n",
       "  </tbody>\n",
       "</table>\n",
       "</div>"
      ],
      "text/plain": [
       "             annee    population\n",
       "count  1416.000000  1.416000e+03\n",
       "mean   2015.500000  3.144793e+07\n",
       "std       1.708428  1.300812e+08\n",
       "min    2013.000000  7.920000e+02\n",
       "25%    2014.000000  3.783410e+05\n",
       "50%    2015.500000  5.126480e+06\n",
       "75%    2017.000000  1.930666e+07\n",
       "max    2018.000000  1.427648e+09"
      ]
     },
     "execution_count": 32,
     "metadata": {},
     "output_type": "execute_result"
    }
   ],
   "source": [
    "# Vérification de valeurs aberrantes et atypiques\n",
    "\n",
    "pop.describe()"
   ]
  },
  {
   "cell_type": "markdown",
   "id": "27d2d60a",
   "metadata": {},
   "source": [
    "### <a id=\"A2.4\">4.Table d'Aide alimentaire</a>"
   ]
  },
  {
   "cell_type": "code",
   "execution_count": 33,
   "id": "9d028b3e",
   "metadata": {
    "scrolled": true
   },
   "outputs": [
    {
     "data": {
      "text/html": [
       "<div>\n",
       "<style scoped>\n",
       "    .dataframe tbody tr th:only-of-type {\n",
       "        vertical-align: middle;\n",
       "    }\n",
       "\n",
       "    .dataframe tbody tr th {\n",
       "        vertical-align: top;\n",
       "    }\n",
       "\n",
       "    .dataframe thead th {\n",
       "        text-align: right;\n",
       "    }\n",
       "</style>\n",
       "<table border=\"1\" class=\"dataframe\">\n",
       "  <thead>\n",
       "    <tr style=\"text-align: right;\">\n",
       "      <th></th>\n",
       "      <th>Pays bénéficiaire</th>\n",
       "      <th>Année</th>\n",
       "      <th>Produit</th>\n",
       "      <th>Valeur</th>\n",
       "    </tr>\n",
       "  </thead>\n",
       "  <tbody>\n",
       "    <tr>\n",
       "      <th>0</th>\n",
       "      <td>Afghanistan</td>\n",
       "      <td>2013</td>\n",
       "      <td>Autres non-céréales</td>\n",
       "      <td>682</td>\n",
       "    </tr>\n",
       "    <tr>\n",
       "      <th>1</th>\n",
       "      <td>Afghanistan</td>\n",
       "      <td>2014</td>\n",
       "      <td>Autres non-céréales</td>\n",
       "      <td>335</td>\n",
       "    </tr>\n",
       "    <tr>\n",
       "      <th>2</th>\n",
       "      <td>Afghanistan</td>\n",
       "      <td>2013</td>\n",
       "      <td>Blé et Farin</td>\n",
       "      <td>39224</td>\n",
       "    </tr>\n",
       "    <tr>\n",
       "      <th>3</th>\n",
       "      <td>Afghanistan</td>\n",
       "      <td>2014</td>\n",
       "      <td>Blé et Farin</td>\n",
       "      <td>15160</td>\n",
       "    </tr>\n",
       "    <tr>\n",
       "      <th>4</th>\n",
       "      <td>Afghanistan</td>\n",
       "      <td>2013</td>\n",
       "      <td>Céréales</td>\n",
       "      <td>40504</td>\n",
       "    </tr>\n",
       "  </tbody>\n",
       "</table>\n",
       "</div>"
      ],
      "text/plain": [
       "  Pays bénéficiaire  Année              Produit  Valeur\n",
       "0       Afghanistan   2013  Autres non-céréales     682\n",
       "1       Afghanistan   2014  Autres non-céréales     335\n",
       "2       Afghanistan   2013         Blé et Farin   39224\n",
       "3       Afghanistan   2014         Blé et Farin   15160\n",
       "4       Afghanistan   2013             Céréales   40504"
      ]
     },
     "execution_count": 33,
     "metadata": {},
     "output_type": "execute_result"
    }
   ],
   "source": [
    "# Affichage des données 'Aide_alimentaire'\n",
    "\n",
    "aide_alim = pd.read_csv('aide_alimentaire.csv')\n",
    "aide_alim.head()"
   ]
  },
  {
   "cell_type": "code",
   "execution_count": 34,
   "id": "bc48ed3e",
   "metadata": {},
   "outputs": [
    {
     "data": {
      "text/plain": [
       "(1475, 4)"
      ]
     },
     "execution_count": 34,
     "metadata": {},
     "output_type": "execute_result"
    }
   ],
   "source": [
    "# Vérification des dimension du dataframe\n",
    "\n",
    "aide_alim.shape"
   ]
  },
  {
   "cell_type": "code",
   "execution_count": 35,
   "id": "43c2880d",
   "metadata": {},
   "outputs": [
    {
     "data": {
      "text/html": [
       "<div>\n",
       "<style scoped>\n",
       "    .dataframe tbody tr th:only-of-type {\n",
       "        vertical-align: middle;\n",
       "    }\n",
       "\n",
       "    .dataframe tbody tr th {\n",
       "        vertical-align: top;\n",
       "    }\n",
       "\n",
       "    .dataframe thead th {\n",
       "        text-align: right;\n",
       "    }\n",
       "</style>\n",
       "<table border=\"1\" class=\"dataframe\">\n",
       "  <thead>\n",
       "    <tr style=\"text-align: right;\">\n",
       "      <th></th>\n",
       "      <th>pays</th>\n",
       "      <th>annee</th>\n",
       "      <th>produit</th>\n",
       "      <th>quantite</th>\n",
       "    </tr>\n",
       "  </thead>\n",
       "  <tbody>\n",
       "    <tr>\n",
       "      <th>0</th>\n",
       "      <td>Afghanistan</td>\n",
       "      <td>2013</td>\n",
       "      <td>Autres non-céréales</td>\n",
       "      <td>682</td>\n",
       "    </tr>\n",
       "    <tr>\n",
       "      <th>1</th>\n",
       "      <td>Afghanistan</td>\n",
       "      <td>2014</td>\n",
       "      <td>Autres non-céréales</td>\n",
       "      <td>335</td>\n",
       "    </tr>\n",
       "    <tr>\n",
       "      <th>2</th>\n",
       "      <td>Afghanistan</td>\n",
       "      <td>2013</td>\n",
       "      <td>Blé et Farin</td>\n",
       "      <td>39224</td>\n",
       "    </tr>\n",
       "    <tr>\n",
       "      <th>3</th>\n",
       "      <td>Afghanistan</td>\n",
       "      <td>2014</td>\n",
       "      <td>Blé et Farin</td>\n",
       "      <td>15160</td>\n",
       "    </tr>\n",
       "    <tr>\n",
       "      <th>4</th>\n",
       "      <td>Afghanistan</td>\n",
       "      <td>2013</td>\n",
       "      <td>Céréales</td>\n",
       "      <td>40504</td>\n",
       "    </tr>\n",
       "  </tbody>\n",
       "</table>\n",
       "</div>"
      ],
      "text/plain": [
       "          pays  annee              produit  quantite\n",
       "0  Afghanistan   2013  Autres non-céréales       682\n",
       "1  Afghanistan   2014  Autres non-céréales       335\n",
       "2  Afghanistan   2013         Blé et Farin     39224\n",
       "3  Afghanistan   2014         Blé et Farin     15160\n",
       "4  Afghanistan   2013             Céréales     40504"
      ]
     },
     "execution_count": 35,
     "metadata": {},
     "output_type": "execute_result"
    }
   ],
   "source": [
    "# Renommage des variables\n",
    "\n",
    "aide_alim.rename(columns = {'Pays bénéficiaire': 'pays', 'Année': 'annee','Produit': 'produit',\n",
    "                        'Valeur': 'quantite'}, inplace = True)\n",
    "aide_alim.head()"
   ]
  },
  {
   "cell_type": "code",
   "execution_count": 36,
   "id": "60a698ec",
   "metadata": {},
   "outputs": [
    {
     "data": {
      "text/plain": [
       "pays        object\n",
       "annee        int64\n",
       "produit     object\n",
       "quantite     int64\n",
       "dtype: object"
      ]
     },
     "execution_count": 36,
     "metadata": {},
     "output_type": "execute_result"
    }
   ],
   "source": [
    "# Vérification des erreurs de type\n",
    "\n",
    "aide_alim.dtypes"
   ]
  },
  {
   "cell_type": "code",
   "execution_count": 37,
   "id": "93291d93",
   "metadata": {},
   "outputs": [
    {
     "data": {
      "text/plain": [
       "pays         object\n",
       "annee         int64\n",
       "produit      object\n",
       "quantite    float64\n",
       "dtype: object"
      ]
     },
     "execution_count": 37,
     "metadata": {},
     "output_type": "execute_result"
    }
   ],
   "source": [
    "# Variable 'quantite': Conversion des valeurs en kg et changement du type en float\n",
    "\n",
    "aide_alim['quantite'] = aide_alim['quantite'] * 1000\n",
    "aide_alim['quantite'] = aide_alim['quantite'].astype(float)\n",
    "aide_alim.dtypes"
   ]
  },
  {
   "cell_type": "code",
   "execution_count": 38,
   "id": "577c1f93",
   "metadata": {},
   "outputs": [
    {
     "data": {
      "text/plain": [
       "pays        0\n",
       "annee       0\n",
       "produit     0\n",
       "quantite    0\n",
       "dtype: int64"
      ]
     },
     "execution_count": 38,
     "metadata": {},
     "output_type": "execute_result"
    }
   ],
   "source": [
    "# Vérification des Valeurs manquantes\n",
    "\n",
    "aide_alim.isnull().sum()"
   ]
  },
  {
   "cell_type": "code",
   "execution_count": 39,
   "id": "f21ec76e",
   "metadata": {},
   "outputs": [
    {
     "data": {
      "text/plain": [
       "0"
      ]
     },
     "execution_count": 39,
     "metadata": {},
     "output_type": "execute_result"
    }
   ],
   "source": [
    "# Vérification des doublons\n",
    "\n",
    "aide_alim.loc[aide_alim[['pays', 'annee', 'produit', 'quantite']].duplicated(keep = False), :].shape[0]"
   ]
  },
  {
   "cell_type": "code",
   "execution_count": 40,
   "id": "e5e0fa1a",
   "metadata": {},
   "outputs": [
    {
     "data": {
      "text/html": [
       "<div>\n",
       "<style scoped>\n",
       "    .dataframe tbody tr th:only-of-type {\n",
       "        vertical-align: middle;\n",
       "    }\n",
       "\n",
       "    .dataframe tbody tr th {\n",
       "        vertical-align: top;\n",
       "    }\n",
       "\n",
       "    .dataframe thead th {\n",
       "        text-align: right;\n",
       "    }\n",
       "</style>\n",
       "<table border=\"1\" class=\"dataframe\">\n",
       "  <thead>\n",
       "    <tr style=\"text-align: right;\">\n",
       "      <th></th>\n",
       "      <th>annee</th>\n",
       "      <th>quantite</th>\n",
       "    </tr>\n",
       "  </thead>\n",
       "  <tbody>\n",
       "    <tr>\n",
       "      <th>count</th>\n",
       "      <td>1475.000000</td>\n",
       "      <td>1.475000e+03</td>\n",
       "    </tr>\n",
       "    <tr>\n",
       "      <th>mean</th>\n",
       "      <td>2014.054237</td>\n",
       "      <td>7.481967e+06</td>\n",
       "    </tr>\n",
       "    <tr>\n",
       "      <th>std</th>\n",
       "      <td>0.946916</td>\n",
       "      <td>2.333953e+07</td>\n",
       "    </tr>\n",
       "    <tr>\n",
       "      <th>min</th>\n",
       "      <td>2013.000000</td>\n",
       "      <td>0.000000e+00</td>\n",
       "    </tr>\n",
       "    <tr>\n",
       "      <th>25%</th>\n",
       "      <td>2013.000000</td>\n",
       "      <td>2.875000e+05</td>\n",
       "    </tr>\n",
       "    <tr>\n",
       "      <th>50%</th>\n",
       "      <td>2014.000000</td>\n",
       "      <td>1.178000e+06</td>\n",
       "    </tr>\n",
       "    <tr>\n",
       "      <th>75%</th>\n",
       "      <td>2015.000000</td>\n",
       "      <td>4.334500e+06</td>\n",
       "    </tr>\n",
       "    <tr>\n",
       "      <th>max</th>\n",
       "      <td>2016.000000</td>\n",
       "      <td>2.650130e+08</td>\n",
       "    </tr>\n",
       "  </tbody>\n",
       "</table>\n",
       "</div>"
      ],
      "text/plain": [
       "             annee      quantite\n",
       "count  1475.000000  1.475000e+03\n",
       "mean   2014.054237  7.481967e+06\n",
       "std       0.946916  2.333953e+07\n",
       "min    2013.000000  0.000000e+00\n",
       "25%    2013.000000  2.875000e+05\n",
       "50%    2014.000000  1.178000e+06\n",
       "75%    2015.000000  4.334500e+06\n",
       "max    2016.000000  2.650130e+08"
      ]
     },
     "execution_count": 40,
     "metadata": {},
     "output_type": "execute_result"
    }
   ],
   "source": [
    "# Vérification de valeurs aberrantes et atypiques\n",
    "\n",
    "aide_alim.describe()"
   ]
  },
  {
   "cell_type": "markdown",
   "id": "c75d9efa",
   "metadata": {},
   "source": [
    "# Partie 2: Analyses des données\n",
    "\n",
    "## <a id=\"B1\">1) Recherches pour Marc </a>"
   ]
  },
  {
   "cell_type": "markdown",
   "id": "48c2f973",
   "metadata": {},
   "source": [
    "###  <a id=\"B1.1\">1.1. Proportion de personnes en état de sous-nutrition pour l'année 2017.</a>"
   ]
  },
  {
   "cell_type": "code",
   "execution_count": 41,
   "id": "5879663a",
   "metadata": {},
   "outputs": [
    {
     "name": "stdout",
     "output_type": "stream",
     "text": [
      " \n",
      "En 2017, il y a eu  \u001b[1m7.1 %\u001b[0m  de personnes en sous-nutrition dans le monde.\u001b[0m\n"
     ]
    }
   ],
   "source": [
    "# Calcul de la population mondiale en 2017\n",
    "\n",
    "pop17 = pop.loc[pop['annee'] == 2017]\n",
    "pop_mondiale17 = pop17['population'].sum()\n",
    "\n",
    "# Calcul du nombre de personnes en sous_nutrition en 2017\n",
    "\n",
    "sous_nut17 = sous_nut.loc[sous_nut['annee'] == 2017]\n",
    "total_sous_nut17 = sous_nut17['pop_sous_nut'].sum()\n",
    "\n",
    "# Calcul de la Proportion de personnes en sous-nutrition en 2017\n",
    "\n",
    "proportion_sous_nut17 = round(total_sous_nut17 * 100 / pop_mondiale17, 2)\n",
    "print(' ')\n",
    "print('En 2017, il y a eu ',color.BOLD+ f\"{proportion_sous_nut17:,}\", '%' +color.END,' de personnes en sous-nutrition dans le monde.'+color.END)\n"
   ]
  },
  {
   "cell_type": "markdown",
   "id": "40d7e38f",
   "metadata": {},
   "source": [
    "### <a id=\"B1.2\">1.2. Nombre théorique de personnes qui pourraient être nourries en 2017.</a>\n",
    "\n",
    "Dans notre étude nous prendrons comme constante de besoin alimentaire : **2 500 kcal/pers/j**, suivant les recommandations du Règlement 1169/2011 de L'Union Européenne concernant les Apports de référence en énergie."
   ]
  },
  {
   "cell_type": "code",
   "execution_count": 42,
   "id": "ddf2ac2e",
   "metadata": {
    "scrolled": true
   },
   "outputs": [
    {
     "name": "stdout",
     "output_type": "stream",
     "text": [
      " \n",
      "Avec une Disponibilité alimentaire mondiale de \u001b[1m7,635,429,382,287,555.0 kcal\u001b[0m et un Besoin alimentaire de \u001b[1m912,500\u001b[0m Kcal/pers/an, on aurait pu nourrir \u001b[1m8,367,593,844.0\u001b[0m personnes en 2017. Ce qui représente \u001b[1m110.86\u001b[0m % de la population mondiale.\n"
     ]
    }
   ],
   "source": [
    "# Création d'une nouvelle table pour représenter la disponibilité par pays \n",
    "\n",
    "dispo_parPays = dispo.groupby(['pays'])[['dispo_alim_kcal/pers/an']].sum().reset_index()\n",
    "\n",
    "# Renommage de la variable 'dispo_alim_kcal/pers/an' en 'dispo_alim_kcal/pays/an'\n",
    "\n",
    "dispo_parPays.rename(columns = {'dispo_alim_kcal/pers/an': 'dispo_alim_kcal/pays/an'}, inplace = True)\n",
    "\n",
    "# Aggrégation des tables de disponibilité par pays et population\n",
    "\n",
    "dispo_mondiale17 = pd.merge(dispo_parPays, pop17, on = 'pays')\n",
    "\n",
    "# Modification de la variable 'dispo_alim_kcal/pays/an' pour correspondre au nombre d'habitants par pays\n",
    "\n",
    "dispo_mondiale17['dispo_alim_kcal/pays/an'] = dispo_mondiale17['dispo_alim_kcal/pays/an'] * dispo_mondiale17['population']\n",
    "\n",
    "# 1- Calcul de la disponiblité alimentaire mondiale en 2017\n",
    "\n",
    "dispo_alim17 = dispo_mondiale17['dispo_alim_kcal/pays/an'].sum()\n",
    "\n",
    "# 2- Calcul du besoin alimentaire en Kcal/pers/an\n",
    "\n",
    "besoin_alim = 2500 * 365\n",
    "\n",
    "# 3- Calcul de la population mondiale en 2017\n",
    "\n",
    "pop_mondiale17 = pop17['population'].sum()\n",
    "\n",
    "# 4- Calcul du nombre théorique de personnes qui pourraient être nourries en 2017\n",
    "\n",
    "pop_nourrissable17 = round(dispo_alim17 / besoin_alim, 0)\n",
    "\n",
    "# 5- Calcul du pourcentage de population qui pourrait être nourrie en 2017\n",
    "\n",
    "pourcent_pop = round(pop_nourrissable17 * 100 / pop_mondiale17, 2)\n",
    "\n",
    "print(' ')\n",
    "print('Avec une Disponibilité alimentaire mondiale de',color.BOLD+ f\"{dispo_alim17:,}\", 'kcal' +color.END,'et un Besoin alimentaire de',color.BOLD+ f\"{besoin_alim:,}\" +color.END, 'Kcal/pers/an, on aurait pu nourrir',color.BOLD+ f\"{pop_nourrissable17:,}\" +color.END, 'personnes en 2017. Ce qui représente', color.BOLD+ f\"{pourcent_pop:,}\"+color.END, '% de la population mondiale.')"
   ]
  },
  {
   "cell_type": "markdown",
   "id": "f55c1d54",
   "metadata": {},
   "source": [
    "### <a id=\"B1.3\">1.3. Nombre théorique de personnes qui pourraient être nourries par les produits végétaux.</a>\n"
   ]
  },
  {
   "cell_type": "code",
   "execution_count": 43,
   "id": "7bba2755",
   "metadata": {
    "scrolled": true
   },
   "outputs": [
    {
     "name": "stdout",
     "output_type": "stream",
     "text": [
      " \n",
      "En 2017, on aurait pu nourrir \u001b[1m6,904,305,679.0\u001b[0m personnes par les produits végétaux. Soit \u001b[1m91.47\u001b[0m % de la population mondiale.\n"
     ]
    }
   ],
   "source": [
    "#Création de la table disponibilité alimentaire végétale\n",
    "\n",
    "dispo_vegetale17 = dispo.loc[dispo['origine'] == 'vegetale']\n",
    "\n",
    "# Calcul de la disponibilité vegetale mondiale par pays\n",
    "\n",
    "dispo_vegetale_parPays = dispo_vegetale17.groupby(['pays'])[['dispo_alim_kcal/pers/an']].sum().reset_index() \n",
    "\n",
    "# Renommage de la variable 'dispo_alim_kcal/pers/an' en 'dispo_alim_kcal/pays/an'\n",
    "\n",
    "dispo_vegetale_parPays.rename(columns = {'dispo_alim_kcal/pers/an': 'dispo_alim_kcal/pays/an'}, inplace = True)\n",
    "\n",
    "# Aggrégation des tables de disponibilité alimentaire végétale par pays et population\n",
    "\n",
    "dispo_vegetale_mondiale17 = pd.merge(dispo_vegetale_parPays, pop17, on = 'pays')\n",
    "\n",
    "# Modification de la variable 'dispo_alim_kcal/pays/an' pour tenir compte du nombre d'habitants par pays\n",
    "\n",
    "dispo_vegetale_mondiale17['dispo_alim_kcal/pays/an'] = dispo_vegetale_mondiale17['dispo_alim_kcal/pays/an'] * dispo_vegetale_mondiale17['population']\n",
    "\n",
    "# 1- Calcul de la disponiblité alimentaire végétale mondiale en 2017\n",
    "\n",
    "dispo_vegetale_totale17 = dispo_vegetale_mondiale17['dispo_alim_kcal/pays/an'].sum()\n",
    "\n",
    "# 2- Calcul du nombre de personnes qui pourraient être nourries par les produits végétaux en 2017\n",
    "\n",
    "pop_vegetale_nourrissable17 = round(dispo_vegetale_totale17 / besoin_alim, 0)\n",
    "\n",
    "# 3- Calcul du pourcentage de la population qui pourrait être nourrie en 2017\n",
    "\n",
    "pourcent_pop_vegetale = round(pop_vegetale_nourrissable17 * 100 / pop_mondiale17, 2)\n",
    "\n",
    "print(' ')\n",
    "print('En 2017, on aurait pu nourrir',color.BOLD+ f\"{pop_vegetale_nourrissable17:,}\"+color.END, 'personnes par les produits végétaux.'\n",
    "      ' Soit', color.BOLD+ f\"{pourcent_pop_vegetale:,}\" +color.END, '% de la population mondiale.' )"
   ]
  },
  {
   "cell_type": "markdown",
   "id": "e3e8b088",
   "metadata": {},
   "source": [
    "### <a id=\"B1.4\">1.4. Utilisation de la disponibilité intérieure, en particulier la part qui est attribuée à l’alimentation animale, celle qui est perdue et celle qui est concrètement utilisée pour l'alimentation humaine.</a>"
   ]
  },
  {
   "cell_type": "markdown",
   "id": "66439158",
   "metadata": {},
   "source": [
    "### a) Utilisation de la disponibilité intérieure pour l'alimentation humaine:"
   ]
  },
  {
   "cell_type": "code",
   "execution_count": 44,
   "id": "a12cda52",
   "metadata": {},
   "outputs": [
    {
     "name": "stdout",
     "output_type": "stream",
     "text": [
      " \n",
      "La disponibilité intérieure pour l'alimentation humaine représente \u001b[1m49.51 %.\u001b[0m\n"
     ]
    }
   ],
   "source": [
    "# Calcul de la disponibilité intérieure totale\n",
    "\n",
    "dispo_int_totale = dispo['dispo_interieure'].sum()\n",
    "\n",
    "# Calcul de la disponibilité intérieure pour l'alimentation humaine\n",
    "\n",
    "dispo_int_hummaine = dispo['nourriture'].sum()\n",
    "\n",
    "# Calcul de la proportion de la disponibilité intérieure pour l'alimentation humaine\n",
    "\n",
    "prop_hum = round(dispo_int_hummaine * 100 / dispo_int_totale, 2)\n",
    "print(' ')\n",
    "print(\"La disponibilité intérieure pour l'alimentation humaine représente\",color.BOLD+ f\"{prop_hum:,}\", '%.' +color.END)"
   ]
  },
  {
   "cell_type": "markdown",
   "id": "b065c09a",
   "metadata": {},
   "source": [
    "### b) Utilisation de la disponibilité intérieure pour l'alimentation animale:"
   ]
  },
  {
   "cell_type": "code",
   "execution_count": 45,
   "id": "65a1df56",
   "metadata": {},
   "outputs": [
    {
     "name": "stdout",
     "output_type": "stream",
     "text": [
      " \n",
      "La disponibilité intérieure pour l'alimentation animale représente \u001b[1m13.24 %.\u001b[0m\n"
     ]
    }
   ],
   "source": [
    "# Calcul de la disponibilité intérieure pour l'alimentation animale\n",
    "\n",
    "dispo_int_animale = dispo['aliments_animaux'].sum()\n",
    "\n",
    "# Calcul de la proportion de la disponibilité intérieure pour l'alimentation animale\n",
    "\n",
    "prop_animale = round(dispo_int_animale * 100 / dispo_int_totale, 2)\n",
    "print(' ')\n",
    "print(\"La disponibilité intérieure pour l'alimentation animale représente\",color.BOLD+ f\"{prop_animale:,}\", '%.' +color.END)"
   ]
  },
  {
   "cell_type": "markdown",
   "id": "56073de1",
   "metadata": {},
   "source": [
    "### c)  Calucul de la disponibilité intérieure perdue:"
   ]
  },
  {
   "cell_type": "code",
   "execution_count": 46,
   "id": "6ecb7659",
   "metadata": {},
   "outputs": [
    {
     "name": "stdout",
     "output_type": "stream",
     "text": [
      " \n",
      "La disponibilité intérieure perdue représente \u001b[1m4.61 %.\u001b[0m\n"
     ]
    }
   ],
   "source": [
    "# Calcul des pertes de la  disponibilité intérieure\n",
    "\n",
    "dispo_int_pertes = dispo['pertes'].sum()\n",
    "\n",
    "# Calcul de la proportion de la disponibilité intérieure perdue\n",
    "\n",
    "prop_pertes = round(dispo_int_pertes * 100 / dispo_int_totale, 2)\n",
    "print(' ')\n",
    "print(\"La disponibilité intérieure perdue représente\", color.BOLD+ f\"{prop_pertes:,}\", '%.' +color.END)"
   ]
  },
  {
   "cell_type": "markdown",
   "id": "a426d337",
   "metadata": {},
   "source": [
    "##  Recommandations:\n",
    "\n",
    "> - Avec une disponibilité aliemntaire mondiale de 110 %, il est anormal d'avoir 7 % de la population mondiale en sous-nutrition en 2017. Il était nécessaire de réorganiser l'utilisation de la disponibilité alimentaire pour mieux cibler les populations en sous-nutrition.\n",
    "\n",
    "> - Une meilleure utilisation des produits produits végétaux aurait pu largement contribuer à régler le problème de sous-nutrition à l'échelle mondiale. "
   ]
  },
  {
   "cell_type": "markdown",
   "id": "0d5236e3",
   "metadata": {},
   "source": [
    "## <a id=\"B2\"> 2) Recherches pour Julien </a>"
   ]
  },
  {
   "cell_type": "markdown",
   "id": "fd7912a4",
   "metadata": {},
   "source": [
    "### <a id=\"B2.1\">2.1. Proportion des céréales pour l'alimentation humaine </a>\n",
    "\n",
    "Note : la valeur de la disponibilité intérieure de chaque pays peut être connue grâce à deux calculs distincts:\n",
    "\n",
    "- Disponibilité intérieure = Nourriture + Semences + Traitement + Pertes (valeur exprimée négativement)\n",
    "- Disponibilité intérieure = Production + Variation de stock + Importation - Exportation."
   ]
  },
  {
   "cell_type": "code",
   "execution_count": 47,
   "id": "23f8d958",
   "metadata": {},
   "outputs": [
    {
     "name": "stdout",
     "output_type": "stream",
     "text": [
      " \n",
      "Les céréales représentent \u001b[1m18.13\u001b[0m % de l'alimentation humaine.\n"
     ]
    }
   ],
   "source": [
    "# Calcul de la quantité de céréales pour l'alimentation humaine\n",
    "\n",
    "cereales = [\"Blé et produits\", \"Riz et produits\", \"Orge et produits\", \"Maïs et produits\", \"Seigle et produits\", \n",
    "            \"Avoine\", \"Millet et produits\", \"Sorgho et produits\", \"Céréales, Autres\"]\n",
    "\n",
    "dispo_cereales = dispo.loc[dispo['produit'].isin(cereales)]\n",
    "total_cereales_hum = dispo_cereales['nourriture'].sum()\n",
    "\n",
    "# Calcul de la disponibilité totale des céréales\n",
    "\n",
    "total_cereales_dispo = dispo_cereales['dispo_interieure'].sum()\n",
    "\n",
    "# Calcul de la proportion de céréales pour l'alimentation humaine\n",
    "\n",
    "proportion_cereales_hum = round(total_cereales_hum * 100 / total_cereales_dispo, 2)\n",
    "print(' ')\n",
    "print('Les céréales représentent', color.BOLD+ f\"{proportion_cereales_hum:,}\"+color.END, \"% de l'alimentation humaine.\")"
   ]
  },
  {
   "cell_type": "markdown",
   "id": "f5c06b01",
   "metadata": {},
   "source": [
    "### <a id=\"B2.2\">2.2. Proportion des céréales pour l'alimentation animale </a>"
   ]
  },
  {
   "cell_type": "code",
   "execution_count": 48,
   "id": "af335639",
   "metadata": {},
   "outputs": [
    {
     "name": "stdout",
     "output_type": "stream",
     "text": [
      " \n",
      "Les céréales représentent \u001b[1m69.34\u001b[0m % de l'alimentation animale.\n"
     ]
    }
   ],
   "source": [
    "# Calcul de la quantité de céréales pour l'alimentation animale\n",
    "\n",
    "total_cereales_animales = dispo_cereales['aliments_animaux'].sum()\n",
    "\n",
    "# Calcul de la proportion de céréales pour l'alimentation animale\n",
    "\n",
    "proportion_cereales_animales = round(total_cereales_animales * 100 / total_cereales_dispo, 2)\n",
    "print(' ')\n",
    "print('Les céréales représentent',color.BOLD+ f\"{proportion_cereales_animales:,}\"+color.END, \"% de l'alimentation animale.\")"
   ]
  },
  {
   "cell_type": "markdown",
   "id": "83f8286f",
   "metadata": {},
   "source": [
    "### <a id=\"B2.3\">2.3. Proportion de personnes en sous-nutrition en Thaïlande </a>\n"
   ]
  },
  {
   "cell_type": "code",
   "execution_count": 49,
   "id": "9f401ba8",
   "metadata": {},
   "outputs": [
    {
     "data": {
      "text/html": [
       "<div>\n",
       "<style scoped>\n",
       "    .dataframe tbody tr th:only-of-type {\n",
       "        vertical-align: middle;\n",
       "    }\n",
       "\n",
       "    .dataframe tbody tr th {\n",
       "        vertical-align: top;\n",
       "    }\n",
       "\n",
       "    .dataframe thead th {\n",
       "        text-align: right;\n",
       "    }\n",
       "</style>\n",
       "<table border=\"1\" class=\"dataframe\">\n",
       "  <thead>\n",
       "    <tr style=\"text-align: right;\">\n",
       "      <th></th>\n",
       "      <th>pays</th>\n",
       "      <th>annee</th>\n",
       "      <th>pop_sous_nut</th>\n",
       "      <th>population</th>\n",
       "      <th>pct_sous_nut</th>\n",
       "    </tr>\n",
       "  </thead>\n",
       "  <tbody>\n",
       "    <tr>\n",
       "      <th>185</th>\n",
       "      <td>Thaïlande</td>\n",
       "      <td>2017</td>\n",
       "      <td>6199999</td>\n",
       "      <td>69209810</td>\n",
       "      <td>8.96</td>\n",
       "    </tr>\n",
       "  </tbody>\n",
       "</table>\n",
       "</div>"
      ],
      "text/plain": [
       "          pays  annee  pop_sous_nut  population  pct_sous_nut\n",
       "185  Thaïlande   2017       6199999    69209810          8.96"
      ]
     },
     "metadata": {},
     "output_type": "display_data"
    },
    {
     "name": "stdout",
     "output_type": "stream",
     "text": [
      "En 2017, il y a eu \u001b[1m8.96 %\u001b[0m de personnes en sous-nutrition en Thaïlande.\n"
     ]
    }
   ],
   "source": [
    "# Aggrégation des Tables sous_nut17 et pop17\n",
    "\n",
    "prop_sous_nut17 = pd.merge(sous_nut17, pop17, on = ['pays', 'annee'])\n",
    "\n",
    "# Calcul du pourcentage de sous-nutrition par pays en 2017\n",
    "\n",
    "prop_sous_nut17['pct_sous_nut'] = round(prop_sous_nut17['pop_sous_nut'] * 100 / prop_sous_nut17['population'], 2)\n",
    "\n",
    "# Détermination de la Proportion de population en sous-nutrition en Thaïlande\n",
    "\n",
    "sous_nut17_thailande = prop_sous_nut17.loc[prop_sous_nut17['pays'] == 'Thaïlande']\n",
    "display(sous_nut17_thailande)\n",
    "print('En 2017, il y a eu',color.BOLD+ '8.96 %' +color.END, 'de personnes en sous-nutrition en Thaïlande.')"
   ]
  },
  {
   "cell_type": "markdown",
   "id": "b09d6115",
   "metadata": {},
   "source": [
    "### <a id=\"B2.4\">2.4. Proportion d'exportation du manioc par rapport à la production en Thaïlande </a>"
   ]
  },
  {
   "cell_type": "code",
   "execution_count": 50,
   "id": "62259aca",
   "metadata": {},
   "outputs": [
    {
     "name": "stdout",
     "output_type": "stream",
     "text": [
      "13809    83.41\n",
      "dtype: float64\n",
      " \n",
      "La Proportion d'exportation du manioc par rapport à la production en Thaïlande est de: \u001b[1m 83,41%.\u001b[0m\n"
     ]
    }
   ],
   "source": [
    "# Filtrage de la disponiblité du manioc pour la Thaïlande\n",
    "\n",
    "dispo_manioc_thailande = dispo.loc[(dispo['produit'] == 'Manioc') & (dispo['pays'] == 'Thaïlande')]\n",
    "dispo_manioc_thailande\n",
    "\n",
    "# Proportion d'exportation du manioc par rapport à la production en Thaïlande\n",
    "\n",
    "prop_export_manioc_thailande = round(dispo_manioc_thailande['qte_exportation'] * 100 / dispo_manioc_thailande['production'], 2)\n",
    "print(prop_export_manioc_thailande)\n",
    "print(' ')\n",
    "print(\"La Proportion d'exportation du manioc par rapport à la production en Thaïlande est de:\",color.BOLD+' 83,41%.' +color.END)"
   ]
  },
  {
   "cell_type": "markdown",
   "id": "b5bf178b",
   "metadata": {},
   "source": [
    "## Recommandations: \n",
    "\n",
    "> - Les **céréales apportent** de nombreux bénéfices : **glucides, fibres alimentaires, protéines, vitamines, minéraux et oligo-éléments.** Elles sont donc **essentielles à l'alimentation humaine**. Cependant, elles sont faiblement utilisées pour l'**alimentation humaine** (**18**%) comparée à celle des **animaux** (**69%**). **Pour réduire l'insécurité alimentaire, il est nécessaire d'augmenter la proportion de céréales pour l'alimentation humaine.**\n",
    "\n",
    "> - Certains **pays en insécurité alimentaire** comme la Thaïlande, et qui **exportent énormément** un aliment essentiel comme le **manioc**, devraient **diminuer** son exportation **pour nourrir leur population sous-alimentée.** \n"
   ]
  },
  {
   "cell_type": "markdown",
   "id": "48a81769",
   "metadata": {},
   "source": [
    "## <a id=\"B3\">3) Recherches pour Mélanie </a>"
   ]
  },
  {
   "cell_type": "markdown",
   "id": "b6695702",
   "metadata": {},
   "source": [
    "### <a id=\"B3.1\">3.1. Liste des pays pour lesquels la proportion de personnes sous-alimentées est la plus forte en 2017 </a>"
   ]
  },
  {
   "cell_type": "code",
   "execution_count": 51,
   "id": "c208ae7e",
   "metadata": {
    "scrolled": false
   },
   "outputs": [
    {
     "data": {
      "text/html": [
       "<div>\n",
       "<style scoped>\n",
       "    .dataframe tbody tr th:only-of-type {\n",
       "        vertical-align: middle;\n",
       "    }\n",
       "\n",
       "    .dataframe tbody tr th {\n",
       "        vertical-align: top;\n",
       "    }\n",
       "\n",
       "    .dataframe thead th {\n",
       "        text-align: right;\n",
       "    }\n",
       "</style>\n",
       "<table border=\"1\" class=\"dataframe\">\n",
       "  <thead>\n",
       "    <tr style=\"text-align: right;\">\n",
       "      <th></th>\n",
       "      <th>pays</th>\n",
       "      <th>annee</th>\n",
       "      <th>pop_sous_nut</th>\n",
       "      <th>population</th>\n",
       "      <th>proportion_sous_nut_parPays</th>\n",
       "    </tr>\n",
       "  </thead>\n",
       "  <tbody>\n",
       "    <tr>\n",
       "      <th>78</th>\n",
       "      <td>Haïti</td>\n",
       "      <td>2017</td>\n",
       "      <td>5300000</td>\n",
       "      <td>10982366</td>\n",
       "      <td>48.26</td>\n",
       "    </tr>\n",
       "    <tr>\n",
       "      <th>157</th>\n",
       "      <td>République populaire démocratique de Corée</td>\n",
       "      <td>2017</td>\n",
       "      <td>12000000</td>\n",
       "      <td>25429825</td>\n",
       "      <td>47.19</td>\n",
       "    </tr>\n",
       "    <tr>\n",
       "      <th>108</th>\n",
       "      <td>Madagascar</td>\n",
       "      <td>2017</td>\n",
       "      <td>10500000</td>\n",
       "      <td>25570512</td>\n",
       "      <td>41.06</td>\n",
       "    </tr>\n",
       "    <tr>\n",
       "      <th>103</th>\n",
       "      <td>Libéria</td>\n",
       "      <td>2017</td>\n",
       "      <td>1799999</td>\n",
       "      <td>4702226</td>\n",
       "      <td>38.28</td>\n",
       "    </tr>\n",
       "    <tr>\n",
       "      <th>100</th>\n",
       "      <td>Lesotho</td>\n",
       "      <td>2017</td>\n",
       "      <td>800000</td>\n",
       "      <td>2091534</td>\n",
       "      <td>38.25</td>\n",
       "    </tr>\n",
       "    <tr>\n",
       "      <th>183</th>\n",
       "      <td>Tchad</td>\n",
       "      <td>2017</td>\n",
       "      <td>5699999</td>\n",
       "      <td>15016753</td>\n",
       "      <td>37.96</td>\n",
       "    </tr>\n",
       "    <tr>\n",
       "      <th>161</th>\n",
       "      <td>Rwanda</td>\n",
       "      <td>2017</td>\n",
       "      <td>4199999</td>\n",
       "      <td>11980961</td>\n",
       "      <td>35.06</td>\n",
       "    </tr>\n",
       "    <tr>\n",
       "      <th>121</th>\n",
       "      <td>Mozambique</td>\n",
       "      <td>2017</td>\n",
       "      <td>9399999</td>\n",
       "      <td>28649018</td>\n",
       "      <td>32.81</td>\n",
       "    </tr>\n",
       "    <tr>\n",
       "      <th>186</th>\n",
       "      <td>Timor-Leste</td>\n",
       "      <td>2017</td>\n",
       "      <td>400000</td>\n",
       "      <td>1243258</td>\n",
       "      <td>32.17</td>\n",
       "    </tr>\n",
       "    <tr>\n",
       "      <th>0</th>\n",
       "      <td>Afghanistan</td>\n",
       "      <td>2017</td>\n",
       "      <td>10500000</td>\n",
       "      <td>36296113</td>\n",
       "      <td>28.93</td>\n",
       "    </tr>\n",
       "  </tbody>\n",
       "</table>\n",
       "</div>"
      ],
      "text/plain": [
       "                                           pays  annee  pop_sous_nut  \\\n",
       "78                                        Haïti   2017       5300000   \n",
       "157  République populaire démocratique de Corée   2017      12000000   \n",
       "108                                  Madagascar   2017      10500000   \n",
       "103                                     Libéria   2017       1799999   \n",
       "100                                     Lesotho   2017        800000   \n",
       "183                                       Tchad   2017       5699999   \n",
       "161                                      Rwanda   2017       4199999   \n",
       "121                                  Mozambique   2017       9399999   \n",
       "186                                 Timor-Leste   2017        400000   \n",
       "0                                   Afghanistan   2017      10500000   \n",
       "\n",
       "     population  proportion_sous_nut_parPays  \n",
       "78     10982366                        48.26  \n",
       "157    25429825                        47.19  \n",
       "108    25570512                        41.06  \n",
       "103     4702226                        38.28  \n",
       "100     2091534                        38.25  \n",
       "183    15016753                        37.96  \n",
       "161    11980961                        35.06  \n",
       "121    28649018                        32.81  \n",
       "186     1243258                        32.17  \n",
       "0      36296113                        28.93  "
      ]
     },
     "execution_count": 51,
     "metadata": {},
     "output_type": "execute_result"
    }
   ],
   "source": [
    "# Aggrégation des tables 'sous_nut17' et 'pop17' dans un nouveau dataframe 'pop_sous_nut17'\n",
    "\n",
    "pop_sous_nut17 = pd.merge(sous_nut17, pop17, on = ['pays', 'annee'], how = 'inner') \n",
    "\n",
    "# Ajout de la variable 'proportion_sous_nut_parPays' dans la table 'pop_sous_nut17'\n",
    "\n",
    "pop_sous_nut17['proportion_sous_nut_parPays'] = round(pop_sous_nut17['pop_sous_nut'] * 100 / pop_sous_nut17['population'], 2)\n",
    "\n",
    "# Liste des pays pour lesquels la proportion de personnes sous-alimentées est la plus forte en 2017\n",
    "\n",
    "pop_sous_nut17.sort_values(by= 'proportion_sous_nut_parPays', ascending = False).head(10)"
   ]
  },
  {
   "cell_type": "markdown",
   "id": "17a74797",
   "metadata": {},
   "source": [
    "**Haïti, Corée et Madagascar** font partie du **top 3** des pays en **insécurité alimentaire** en 2017."
   ]
  },
  {
   "cell_type": "markdown",
   "id": "62066513",
   "metadata": {},
   "source": [
    "### <a id=\"B3.2\">3.2. Liste des Pays qui ont le plus bénéficié d'aide alimentaire depuis 2013 </a>"
   ]
  },
  {
   "cell_type": "code",
   "execution_count": 52,
   "id": "7997fb2b",
   "metadata": {
    "scrolled": true
   },
   "outputs": [
    {
     "data": {
      "text/html": [
       "<div>\n",
       "<style scoped>\n",
       "    .dataframe tbody tr th:only-of-type {\n",
       "        vertical-align: middle;\n",
       "    }\n",
       "\n",
       "    .dataframe tbody tr th {\n",
       "        vertical-align: top;\n",
       "    }\n",
       "\n",
       "    .dataframe thead th {\n",
       "        text-align: right;\n",
       "    }\n",
       "</style>\n",
       "<table border=\"1\" class=\"dataframe\">\n",
       "  <thead>\n",
       "    <tr style=\"text-align: right;\">\n",
       "      <th></th>\n",
       "      <th>quantite</th>\n",
       "    </tr>\n",
       "    <tr>\n",
       "      <th>pays</th>\n",
       "      <th></th>\n",
       "    </tr>\n",
       "  </thead>\n",
       "  <tbody>\n",
       "    <tr>\n",
       "      <th>République arabe syrienne</th>\n",
       "      <td>1.858943e+09</td>\n",
       "    </tr>\n",
       "    <tr>\n",
       "      <th>Éthiopie</th>\n",
       "      <td>1.381294e+09</td>\n",
       "    </tr>\n",
       "    <tr>\n",
       "      <th>Yémen</th>\n",
       "      <td>1.206484e+09</td>\n",
       "    </tr>\n",
       "    <tr>\n",
       "      <th>Soudan du Sud</th>\n",
       "      <td>6.952480e+08</td>\n",
       "    </tr>\n",
       "    <tr>\n",
       "      <th>Soudan</th>\n",
       "      <td>6.697840e+08</td>\n",
       "    </tr>\n",
       "    <tr>\n",
       "      <th>Kenya</th>\n",
       "      <td>5.528360e+08</td>\n",
       "    </tr>\n",
       "    <tr>\n",
       "      <th>Bangladesh</th>\n",
       "      <td>3.481880e+08</td>\n",
       "    </tr>\n",
       "    <tr>\n",
       "      <th>Somalie</th>\n",
       "      <td>2.926780e+08</td>\n",
       "    </tr>\n",
       "    <tr>\n",
       "      <th>République démocratique du Congo</th>\n",
       "      <td>2.885020e+08</td>\n",
       "    </tr>\n",
       "    <tr>\n",
       "      <th>Niger</th>\n",
       "      <td>2.763440e+08</td>\n",
       "    </tr>\n",
       "  </tbody>\n",
       "</table>\n",
       "</div>"
      ],
      "text/plain": [
       "                                      quantite\n",
       "pays                                          \n",
       "République arabe syrienne         1.858943e+09\n",
       "Éthiopie                          1.381294e+09\n",
       "Yémen                             1.206484e+09\n",
       "Soudan du Sud                     6.952480e+08\n",
       "Soudan                            6.697840e+08\n",
       "Kenya                             5.528360e+08\n",
       "Bangladesh                        3.481880e+08\n",
       "Somalie                           2.926780e+08\n",
       "République démocratique du Congo  2.885020e+08\n",
       "Niger                             2.763440e+08"
      ]
     },
     "execution_count": 52,
     "metadata": {},
     "output_type": "execute_result"
    }
   ],
   "source": [
    "# Détermination de la Liste des Pays qui ont le plus bénéficié d'aide alimentaire depuis 2013\n",
    "\n",
    "pays_plus_aide = (aide_alim[['pays','quantite' ]].groupby('pays').sum()).sort_values(by = 'quantite', ascending=False)\n",
    "pays_plus_aide.head(10)"
   ]
  },
  {
   "cell_type": "markdown",
   "id": "04c40dcd",
   "metadata": {},
   "source": [
    "**La Syrie, l'Ethiopie et le Yémen** représentent le **top 3** des pays qui ont le **plus bénéficié d'aide alimentaire** depuis 2013."
   ]
  },
  {
   "cell_type": "markdown",
   "id": "3763af71",
   "metadata": {},
   "source": [
    "### <a id=\"B3.3\">3.3. Liste des Pays  ayant le plus de disponibilité par habitant </a>"
   ]
  },
  {
   "cell_type": "code",
   "execution_count": 53,
   "id": "2e472578",
   "metadata": {},
   "outputs": [
    {
     "data": {
      "text/html": [
       "<div>\n",
       "<style scoped>\n",
       "    .dataframe tbody tr th:only-of-type {\n",
       "        vertical-align: middle;\n",
       "    }\n",
       "\n",
       "    .dataframe tbody tr th {\n",
       "        vertical-align: top;\n",
       "    }\n",
       "\n",
       "    .dataframe thead th {\n",
       "        text-align: right;\n",
       "    }\n",
       "</style>\n",
       "<table border=\"1\" class=\"dataframe\">\n",
       "  <thead>\n",
       "    <tr style=\"text-align: right;\">\n",
       "      <th></th>\n",
       "      <th>pays</th>\n",
       "      <th>dispo_alim_kcal/pers/j</th>\n",
       "    </tr>\n",
       "  </thead>\n",
       "  <tbody>\n",
       "    <tr>\n",
       "      <th>11</th>\n",
       "      <td>Autriche</td>\n",
       "      <td>3770.0</td>\n",
       "    </tr>\n",
       "    <tr>\n",
       "      <th>16</th>\n",
       "      <td>Belgique</td>\n",
       "      <td>3737.0</td>\n",
       "    </tr>\n",
       "    <tr>\n",
       "      <th>159</th>\n",
       "      <td>Turquie</td>\n",
       "      <td>3708.0</td>\n",
       "    </tr>\n",
       "    <tr>\n",
       "      <th>171</th>\n",
       "      <td>États-Unis d'Amérique</td>\n",
       "      <td>3682.0</td>\n",
       "    </tr>\n",
       "    <tr>\n",
       "      <th>74</th>\n",
       "      <td>Israël</td>\n",
       "      <td>3610.0</td>\n",
       "    </tr>\n",
       "    <tr>\n",
       "      <th>72</th>\n",
       "      <td>Irlande</td>\n",
       "      <td>3602.0</td>\n",
       "    </tr>\n",
       "    <tr>\n",
       "      <th>75</th>\n",
       "      <td>Italie</td>\n",
       "      <td>3578.0</td>\n",
       "    </tr>\n",
       "    <tr>\n",
       "      <th>89</th>\n",
       "      <td>Luxembourg</td>\n",
       "      <td>3540.0</td>\n",
       "    </tr>\n",
       "    <tr>\n",
       "      <th>168</th>\n",
       "      <td>Égypte</td>\n",
       "      <td>3518.0</td>\n",
       "    </tr>\n",
       "    <tr>\n",
       "      <th>4</th>\n",
       "      <td>Allemagne</td>\n",
       "      <td>3503.0</td>\n",
       "    </tr>\n",
       "  </tbody>\n",
       "</table>\n",
       "</div>"
      ],
      "text/plain": [
       "                      pays  dispo_alim_kcal/pers/j\n",
       "11                Autriche                  3770.0\n",
       "16                Belgique                  3737.0\n",
       "159                Turquie                  3708.0\n",
       "171  États-Unis d'Amérique                  3682.0\n",
       "74                  Israël                  3610.0\n",
       "72                 Irlande                  3602.0\n",
       "75                  Italie                  3578.0\n",
       "89              Luxembourg                  3540.0\n",
       "168                 Égypte                  3518.0\n",
       "4                Allemagne                  3503.0"
      ]
     },
     "execution_count": 53,
     "metadata": {},
     "output_type": "execute_result"
    }
   ],
   "source": [
    "# Aggrégation de la Table dispo par pays\n",
    "\n",
    "disponibilite_pays = dispo.groupby(['pays'])[['dispo_alim_kcal/pers/an']].sum().reset_index()\n",
    "\n",
    "#Calcul de la disponibilité aliementaire pour l'exprimer en kcal/pers/j\n",
    "\n",
    "disponibilite_pays['dispo_alim_kcal/pers/an'] = disponibilite_pays['dispo_alim_kcal/pers/an'] / 365\n",
    "\n",
    "# Renommage de la variable 'dispo_alim_kcal/pers/an' en 'dispo_alim_kcal/pers/j'\n",
    "\n",
    "disponibilite_pays.rename(columns={ 'dispo_alim_kcal/pers/an': 'dispo_alim_kcal/pers/j'}, inplace = True)\n",
    "\n",
    "# Détermination de la liste des Pays ayant le plus de disponibilité par habitant\n",
    "\n",
    "pays_plus_dispo = disponibilite_pays.sort_values(by = 'dispo_alim_kcal/pers/j', ascending = False)\n",
    "pays_plus_dispo.head(10)"
   ]
  },
  {
   "cell_type": "markdown",
   "id": "120be12f",
   "metadata": {},
   "source": [
    "**L'Autriche, la Belgique et la Turquie** représentent le **top 3** des pays ayant le **plus de Disponibilité alimentaire.**"
   ]
  },
  {
   "cell_type": "markdown",
   "id": "7223265b",
   "metadata": {},
   "source": [
    "### <a id=\"B3.4\">3.4. Liste des Pays  ayant le moins de disponibilité par habitant </a>"
   ]
  },
  {
   "cell_type": "code",
   "execution_count": 54,
   "id": "0a118342",
   "metadata": {
    "scrolled": true
   },
   "outputs": [
    {
     "data": {
      "text/html": [
       "<div>\n",
       "<style scoped>\n",
       "    .dataframe tbody tr th:only-of-type {\n",
       "        vertical-align: middle;\n",
       "    }\n",
       "\n",
       "    .dataframe tbody tr th {\n",
       "        vertical-align: top;\n",
       "    }\n",
       "\n",
       "    .dataframe thead th {\n",
       "        text-align: right;\n",
       "    }\n",
       "</style>\n",
       "<table border=\"1\" class=\"dataframe\">\n",
       "  <thead>\n",
       "    <tr style=\"text-align: right;\">\n",
       "      <th></th>\n",
       "      <th>pays</th>\n",
       "      <th>dispo_alim_kcal/pers/j</th>\n",
       "    </tr>\n",
       "  </thead>\n",
       "  <tbody>\n",
       "    <tr>\n",
       "      <th>128</th>\n",
       "      <td>République centrafricaine</td>\n",
       "      <td>1879.0</td>\n",
       "    </tr>\n",
       "    <tr>\n",
       "      <th>166</th>\n",
       "      <td>Zambie</td>\n",
       "      <td>1924.0</td>\n",
       "    </tr>\n",
       "    <tr>\n",
       "      <th>91</th>\n",
       "      <td>Madagascar</td>\n",
       "      <td>2056.0</td>\n",
       "    </tr>\n",
       "    <tr>\n",
       "      <th>0</th>\n",
       "      <td>Afghanistan</td>\n",
       "      <td>2087.0</td>\n",
       "    </tr>\n",
       "    <tr>\n",
       "      <th>65</th>\n",
       "      <td>Haïti</td>\n",
       "      <td>2089.0</td>\n",
       "    </tr>\n",
       "    <tr>\n",
       "      <th>133</th>\n",
       "      <td>République populaire démocratique de Corée</td>\n",
       "      <td>2093.0</td>\n",
       "    </tr>\n",
       "    <tr>\n",
       "      <th>151</th>\n",
       "      <td>Tchad</td>\n",
       "      <td>2109.0</td>\n",
       "    </tr>\n",
       "    <tr>\n",
       "      <th>167</th>\n",
       "      <td>Zimbabwe</td>\n",
       "      <td>2113.0</td>\n",
       "    </tr>\n",
       "    <tr>\n",
       "      <th>114</th>\n",
       "      <td>Ouganda</td>\n",
       "      <td>2126.0</td>\n",
       "    </tr>\n",
       "    <tr>\n",
       "      <th>154</th>\n",
       "      <td>Timor-Leste</td>\n",
       "      <td>2129.0</td>\n",
       "    </tr>\n",
       "  </tbody>\n",
       "</table>\n",
       "</div>"
      ],
      "text/plain": [
       "                                           pays  dispo_alim_kcal/pers/j\n",
       "128                   République centrafricaine                  1879.0\n",
       "166                                      Zambie                  1924.0\n",
       "91                                   Madagascar                  2056.0\n",
       "0                                   Afghanistan                  2087.0\n",
       "65                                        Haïti                  2089.0\n",
       "133  République populaire démocratique de Corée                  2093.0\n",
       "151                                       Tchad                  2109.0\n",
       "167                                    Zimbabwe                  2113.0\n",
       "114                                     Ouganda                  2126.0\n",
       "154                                 Timor-Leste                  2129.0"
      ]
     },
     "execution_count": 54,
     "metadata": {},
     "output_type": "execute_result"
    }
   ],
   "source": [
    "# Détermination de la Liste des Pays  ayant le moins de disponibilité par habitant\n",
    "\n",
    "pays_moins_dispo = disponibilite_pays.sort_values(by = 'dispo_alim_kcal/pers/j', ascending = True)\n",
    "pays_moins_dispo.head(10)"
   ]
  },
  {
   "cell_type": "markdown",
   "id": "e70e5551",
   "metadata": {},
   "source": [
    "**La République centrafricaine, la Zambie et Madagascar** représentent le **top 3** des pays ayant le **moins de disponibilité alimentaire.**"
   ]
  },
  {
   "cell_type": "markdown",
   "id": "146c0771",
   "metadata": {},
   "source": [
    "## Recommandations:\n",
    "\n",
    "> - On constate que les pays qui semblent le **plus en difficulté alimentaire** comme la RCA, la Zambie et Madagascar par exemple, **n'ont pas le plus bénéficié de l'aide alimentaire**. Il est nécessaire de tenir compte du **taux de sous-nutrition** pour mieux **cibler l'aide alimentaire**.\n",
    "\n",
    "> - On devrait **cibler les Pays ayant le plus de disponibilité par habitant** comme l'Autriche, la Belgique et la Turquie par exemple, **pour la contribution à l'aide alimentaire mondiale**."
   ]
  }
 ],
 "metadata": {
  "kernelspec": {
   "display_name": "Python 3 (ipykernel)",
   "language": "python",
   "name": "python3"
  },
  "language_info": {
   "codemirror_mode": {
    "name": "ipython",
    "version": 3
   },
   "file_extension": ".py",
   "mimetype": "text/x-python",
   "name": "python",
   "nbconvert_exporter": "python",
   "pygments_lexer": "ipython3",
   "version": "3.9.12"
  }
 },
 "nbformat": 4,
 "nbformat_minor": 5
}
